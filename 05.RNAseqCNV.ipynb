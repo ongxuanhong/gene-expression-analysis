{
 "cells": [
  {
   "cell_type": "code",
   "execution_count": 2,
   "metadata": {
    "vscode": {
     "languageId": "r"
    }
   },
   "outputs": [
    {
     "name": "stderr",
     "output_type": "stream",
     "text": [
      "also installing the dependencies 'credentials', 'zip', 'gitcreds', 'ini', 'httpuv', 'xtable', 'sourcetools', 'later', 'promises', 'diffobj', 'gert', 'gh', 'whisker', 'shiny', 'downlit', 'httr2', 'htmlwidgets', 'xopen', 'brio', 'praise', 'waldo', 'usethis', 'ellipsis', 'miniUI', 'pkgdown', 'profvis', 'rcmdcheck', 'rversions', 'sessioninfo', 'testthat', 'urlchecker'\n",
      "\n",
      "\n"
     ]
    },
    {
     "name": "stdout",
     "output_type": "stream",
     "text": [
      "\n",
      "The downloaded binary packages are in\n",
      "\t/var/folders/y2/hzjfncr92llg100m08nwxmhc0000gn/T//Rtmp7jJTBc/downloaded_packages\n"
     ]
    },
    {
     "name": "stderr",
     "output_type": "stream",
     "text": [
      "Downloading GitHub repo honzee/RNAseqCNV@HEAD\n",
      "\n"
     ]
    },
    {
     "name": "stdout",
     "output_type": "stream",
     "text": [
      "matrixStats  (1.4.1  -> 1.5.0    ) [CRAN]\n",
      "pillar       (1.10.0 -> 1.10.1   ) [CRAN]\n",
      "bitops       (NA     -> 1.0-9    ) [CRAN]\n",
      "RCurl        (NA     -> 1.98-1.16) [CRAN]\n",
      "rbibutils    (NA     -> 2.3      ) [CRAN]\n",
      "Rdpack       (NA     -> 2.6.2    ) [CRAN]\n",
      "microbenc... (NA     -> 1.5.0    ) [CRAN]\n",
      "Deriv        (NA     -> 4.1.6    ) [CRAN]\n",
      "MatrixModels (NA     -> 0.5-3    ) [CRAN]\n",
      "SparseM      (NA     -> 1.84-2   ) [CRAN]\n",
      "doBy         (NA     -> 4.6.24   ) [CRAN]\n",
      "reformulas   (NA     -> 0.4.0    ) [CRAN]\n",
      "nloptr       (NA     -> 2.1.1    ) [CRAN]\n",
      "minqa        (NA     -> 1.2.8    ) [CRAN]\n",
      "lme4         (NA     -> 1.1-36   ) [CRAN]\n",
      "quantreg     (NA     -> 5.99.1   ) [CRAN]\n",
      "pbkrtest     (NA     -> 0.5.3    ) [CRAN]\n",
      "Formula      (NA     -> 1.2-5    ) [CRAN]\n",
      "carData      (NA     -> 3.0-5    ) [CRAN]\n",
      "car          (NA     -> 3.1-3    ) [CRAN]\n",
      "corrplot     (NA     -> 0.95     ) [CRAN]\n",
      "rstatix      (NA     -> 0.7.2    ) [CRAN]\n",
      "polynom      (NA     -> 1.4-1    ) [CRAN]\n",
      "gridExtra    (NA     -> 2.3      ) [CRAN]\n",
      "ggsignif     (NA     -> 0.6.4    ) [CRAN]\n",
      "ggsci        (NA     -> 3.2.0    ) [CRAN]\n",
      "shinyFiles   (NA     -> 0.9.3    ) [CRAN]\n",
      "randomForest (NA     -> 4.7-1.2  ) [CRAN]\n",
      "ggpubr       (NA     -> 0.6.0    ) [CRAN]\n"
     ]
    },
    {
     "name": "stderr",
     "output_type": "stream",
     "text": [
      "Skipping 16 packages ahead of CRAN: BiocGenerics, zlibbioc, XVector, GenomeInfoDbData, SparseArray, DelayedArray, S4Arrays, GenomeInfoDb, IRanges, S4Vectors, Biobase, GenomicRanges, MatrixGenerics, BiocParallel, SummarizedExperiment, DESeq2\n",
      "\n",
      "Installing 29 packages: matrixStats, pillar, bitops, RCurl, rbibutils, Rdpack, microbenchmark, Deriv, MatrixModels, SparseM, doBy, reformulas, nloptr, minqa, lme4, quantreg, pbkrtest, Formula, carData, car, corrplot, rstatix, polynom, gridExtra, ggsignif, ggsci, shinyFiles, randomForest, ggpubr\n",
      "\n",
      "Warning message:\n",
      "\"unable to access index for repository https://bioconductor.org/packages/3.18/bioc/bin/macosx/big-sur-arm64/contrib/4.4:\n",
      "  cannot open URL 'https://bioconductor.org/packages/3.18/bioc/bin/macosx/big-sur-arm64/contrib/4.4/PACKAGES'\"\n",
      "Warning message:\n",
      "\"unable to access index for repository https://bioconductor.org/packages/3.18/data/annotation/bin/macosx/big-sur-arm64/contrib/4.4:\n",
      "  cannot open URL 'https://bioconductor.org/packages/3.18/data/annotation/bin/macosx/big-sur-arm64/contrib/4.4/PACKAGES'\"\n",
      "Warning message:\n",
      "\"unable to access index for repository https://bioconductor.org/packages/3.18/data/experiment/bin/macosx/big-sur-arm64/contrib/4.4:\n",
      "  cannot open URL 'https://bioconductor.org/packages/3.18/data/experiment/bin/macosx/big-sur-arm64/contrib/4.4/PACKAGES'\"\n",
      "Warning message:\n",
      "\"unable to access index for repository https://bioconductor.org/packages/3.18/workflows/bin/macosx/big-sur-arm64/contrib/4.4:\n",
      "  cannot open URL 'https://bioconductor.org/packages/3.18/workflows/bin/macosx/big-sur-arm64/contrib/4.4/PACKAGES'\"\n",
      "Warning message:\n",
      "\"unable to access index for repository https://bioconductor.org/packages/3.18/books/bin/macosx/big-sur-arm64/contrib/4.4:\n",
      "  cannot open URL 'https://bioconductor.org/packages/3.18/books/bin/macosx/big-sur-arm64/contrib/4.4/PACKAGES'\"\n"
     ]
    },
    {
     "name": "stdout",
     "output_type": "stream",
     "text": [
      "\n",
      "The downloaded binary packages are in\n",
      "\t/var/folders/y2/hzjfncr92llg100m08nwxmhc0000gn/T//Rtmp7jJTBc/downloaded_packages\n",
      "\u001b[36m--\u001b[39m \u001b[36mR CMD build\u001b[39m \u001b[36m-----------------------------------------------------------------\u001b[39m\n",
      "* checking for file '/private/var/folders/y2/hzjfncr92llg100m08nwxmhc0000gn/T/Rtmp7jJTBc/remotes2837de0f308/honzee-RNAseqCNV-12af689/DESCRIPTION' ... OK\n",
      "* preparing 'RNAseqCNV':\n",
      "* checking DESCRIPTION meta-information ... OK\n",
      "* checking for LF line-endings in source and make files and shell scripts\n",
      "* checking for empty or unneeded directories\n",
      "  NB: this package now depends on R (>= 3.5.0)\n",
      "  WARNING: Added dependency on R >= 3.5.0 because serialized objects in\n",
      "  serialize/load version 3 cannot be read in older versions of R.\n",
      "  File(s) containing such objects:\n",
      "    'RNAseqCNV/data/centromeres_hg38.rda' 'RNAseqCNV/data/dbSNP_hg38.rda'\n",
      "    'RNAseqCNV/data/gene_annot_hg38.rda'\n",
      "    'RNAseqCNV/data/pseudoautosomal_regions_hg38.rda'\n",
      "* building 'RNAseqCNV_1.2.2.tar.gz'\n",
      "\n"
     ]
    }
   ],
   "source": [
    "# install devtools\n",
    "# https://github.com/honzee/RNAseqCNV\n",
    "install.packages(\"devtools\")\n",
    "\n",
    "# install RNAseqCNV package\n",
    "devtools::install_github(repo = \"honzee/RNAseqCNV\")"
   ]
  },
  {
   "cell_type": "code",
   "execution_count": 1,
   "metadata": {
    "vscode": {
     "languageId": "r"
    }
   },
   "outputs": [],
   "source": [
    "# Examples of basic function calls:\n",
    "library(RNAseqCNV)"
   ]
  },
  {
   "cell_type": "code",
   "execution_count": 4,
   "metadata": {
    "vscode": {
     "languageId": "r"
    }
   },
   "outputs": [
    {
     "name": "stderr",
     "output_type": "stream",
     "text": [
      "Loading required package: shiny\n",
      "\n",
      "\n",
      "Listening on http://127.0.0.1:5984\n",
      "\n"
     ]
    }
   ],
   "source": [
    "# launch the Shiny app with:\n",
    "launchApp()"
   ]
  },
  {
   "cell_type": "code",
   "execution_count": null,
   "metadata": {
    "vscode": {
     "languageId": "r"
    }
   },
   "outputs": [],
   "source": []
  },
  {
   "cell_type": "markdown",
   "metadata": {},
   "source": [
    "# Basic function params - Genome version"
   ]
  },
  {
   "cell_type": "code",
   "execution_count": 2,
   "metadata": {
    "vscode": {
     "languageId": "r"
    }
   },
   "outputs": [
    {
     "name": "stdout",
     "output_type": "stream",
     "text": [
      "[1] \"Analysis initiated\"\n"
     ]
    },
    {
     "name": "stderr",
     "output_type": "stream",
     "text": [
      "Warning message in RNAseqCNV_wrapper(config = \"RNAseqCNV/data/config.txt\", metadata = \"RNAseqCNV/data/metadata\", :\n",
      "\"The output directory:RNAseqCNV/output does not exist. The results will be saved in:/Users/hongong/working/vsob3/gene-expression-analysis/RNAseqCNV_output\"\n"
     ]
    },
    {
     "name": "stdout",
     "output_type": "stream",
     "text": [
      "[1] \"Normalization for sample: TET2KO completed\"\n",
      "[1] \"Preparing file with snv information for: TET2KO\"\n"
     ]
    },
    {
     "name": "stderr",
     "output_type": "stream",
     "text": [
      "Reading in vcf file..\n",
      "\n",
      "Extracting depth..\n",
      "\n",
      "Extracting reference allele and alternative allele depths..\n",
      "\n",
      "Needed information from vcf extracted\n",
      "\n",
      "Finished reading vcf\n",
      "\n",
      "Warning message:\n",
      "\"\u001b[1m\u001b[22mThere was 1 warning in `mutate()`.\n",
      "\u001b[1m\u001b[22m\u001b[36mi\u001b[39m In argument: `count_nor_med = log2(.[, 1]/med)`.\n",
      "Caused by warning:\n",
      "\u001b[33m!\u001b[39m NaNs produced\"\n"
     ]
    },
    {
     "name": "stdout",
     "output_type": "stream",
     "text": [
      "[1] \"Estimating chromosome arm CNV: TET2KO\"\n"
     ]
    },
    {
     "name": "stderr",
     "output_type": "stream",
     "text": [
      "Warning message:\n",
      "\"\u001b[1m\u001b[22mRemoved 1 row containing missing values or values outside the scale range\n",
      "(`geom_label()`).\"\n",
      "Warning message:\n",
      "\"Graphs cannot be vertically aligned unless the axis parameter is set. Placing graphs unaligned.\"\n"
     ]
    },
    {
     "name": "stdout",
     "output_type": "stream",
     "text": [
      "[1] \"Plotting main figure: TET2KO\"\n",
      "[1] \"Plotting arm-level figures: TET2KO\"\n",
      "[1] \"Plotting chr 1 arm-level figure\"\n",
      "[1] \"Plotting chr 2 arm-level figure\"\n",
      "[1] \"Plotting chr 3 arm-level figure\"\n",
      "[1] \"Plotting chr 4 arm-level figure\"\n",
      "[1] \"Plotting chr 5 arm-level figure\"\n"
     ]
    },
    {
     "name": "stderr",
     "output_type": "stream",
     "text": [
      "Warning message:\n",
      "\"\u001b[1m\u001b[22mRemoved 3 rows containing missing values or values outside the scale range\n",
      "(`geom_smooth()`).\"\n"
     ]
    },
    {
     "name": "stdout",
     "output_type": "stream",
     "text": [
      "[1] \"Plotting chr 6 arm-level figure\"\n"
     ]
    },
    {
     "name": "stderr",
     "output_type": "stream",
     "text": [
      "Warning message:\n",
      "\"\u001b[1m\u001b[22mRemoved 1 row containing missing values or values outside the scale range\n",
      "(`geom_smooth()`).\"\n"
     ]
    },
    {
     "name": "stdout",
     "output_type": "stream",
     "text": [
      "[1] \"Plotting chr 7 arm-level figure\"\n",
      "[1] \"Plotting chr 8 arm-level figure\"\n",
      "[1] \"Plotting chr 9 arm-level figure\"\n",
      "[1] \"Plotting chr 10 arm-level figure\"\n",
      "[1] \"Plotting chr 11 arm-level figure\"\n",
      "[1] \"Plotting chr 12 arm-level figure\"\n",
      "[1] \"Plotting chr 13 arm-level figure\"\n"
     ]
    },
    {
     "name": "stderr",
     "output_type": "stream",
     "text": [
      "Warning message:\n",
      "\"\u001b[1m\u001b[22mThere was 1 warning in `summarise()`.\n",
      "\u001b[1m\u001b[22m\u001b[36mi\u001b[39m In argument: `y_max = max(peak_max)`.\n",
      "Caused by warning in `max()`:\n",
      "\u001b[33m!\u001b[39m no non-missing arguments to max; returning -Inf\"\n",
      "Warning message:\n",
      "\"\u001b[1m\u001b[22mRemoved 6 rows containing missing values or values outside the scale range\n",
      "(`geom_smooth()`).\"\n"
     ]
    },
    {
     "name": "stdout",
     "output_type": "stream",
     "text": [
      "[1] \"Plotting chr 14 arm-level figure\"\n"
     ]
    },
    {
     "name": "stderr",
     "output_type": "stream",
     "text": [
      "Warning message:\n",
      "\"\u001b[1m\u001b[22mRemoved 2 rows containing missing values or values outside the scale range\n",
      "(`geom_smooth()`).\"\n"
     ]
    },
    {
     "name": "stdout",
     "output_type": "stream",
     "text": [
      "[1] \"Plotting chr 15 arm-level figure\"\n",
      "[1] \"Plotting chr 16 arm-level figure\"\n",
      "[1] \"Plotting chr 17 arm-level figure\"\n",
      "[1] \"Plotting chr 18 arm-level figure\"\n",
      "[1] \"Plotting chr 19 arm-level figure\"\n",
      "[1] \"Plotting chr 20 arm-level figure\"\n",
      "[1] \"Plotting chr 21 arm-level figure\"\n"
     ]
    },
    {
     "name": "stderr",
     "output_type": "stream",
     "text": [
      "Warning message:\n",
      "\"\u001b[1m\u001b[22mRemoved 33 rows containing missing values or values outside the scale range\n",
      "(`geom_smooth()`).\"\n"
     ]
    },
    {
     "name": "stdout",
     "output_type": "stream",
     "text": [
      "[1] \"Plotting chr 22 arm-level figure\"\n"
     ]
    },
    {
     "name": "stderr",
     "output_type": "stream",
     "text": [
      "Warning message:\n",
      "\"\u001b[1m\u001b[22mRemoved 20 rows containing missing values or values outside the scale range\n",
      "(`geom_smooth()`).\"\n"
     ]
    },
    {
     "name": "stdout",
     "output_type": "stream",
     "text": [
      "[1] \"Plotting chr X arm-level figure\"\n",
      "[1] \"Analysis for sample: TET2KO finished\"\n",
      "[1] \"Normalization for sample: WT completed\"\n",
      "[1] \"Preparing file with snv information for: WT\"\n"
     ]
    },
    {
     "name": "stderr",
     "output_type": "stream",
     "text": [
      "Reading in vcf file..\n",
      "\n",
      "Extracting depth..\n",
      "\n",
      "Extracting reference allele and alternative allele depths..\n",
      "\n",
      "Needed information from vcf extracted\n",
      "\n",
      "Finished reading vcf\n",
      "\n",
      "Warning message:\n",
      "\"\u001b[1m\u001b[22mThere was 1 warning in `mutate()`.\n",
      "\u001b[1m\u001b[22m\u001b[36mi\u001b[39m In argument: `count_nor_med = log2(.[, 1]/med)`.\n",
      "Caused by warning:\n",
      "\u001b[33m!\u001b[39m NaNs produced\"\n"
     ]
    },
    {
     "name": "stdout",
     "output_type": "stream",
     "text": [
      "[1] \"Estimating chromosome arm CNV: WT\"\n"
     ]
    },
    {
     "name": "stderr",
     "output_type": "stream",
     "text": [
      "Warning message:\n",
      "\"\u001b[1m\u001b[22mGroups with fewer than two data points have been dropped.\"\n",
      "Warning message:\n",
      "\"\u001b[1m\u001b[22mGroups with fewer than two data points have been dropped.\"\n",
      "Warning message in max(ids, na.rm = TRUE):\n",
      "\"no non-missing arguments to max; returning -Inf\"\n",
      "Warning message in max(ids, na.rm = TRUE):\n",
      "\"no non-missing arguments to max; returning -Inf\"\n",
      "Warning message:\n",
      "\"\u001b[1m\u001b[22mRemoved 9 rows containing missing values or values outside the scale range\n",
      "(`geom_label()`).\"\n"
     ]
    },
    {
     "name": "stdout",
     "output_type": "stream",
     "text": [
      "[1] \"Plotting main figure: WT\"\n",
      "[1] \"Plotting arm-level figures: WT\"\n",
      "[1] \"Plotting chr 1 arm-level figure\"\n",
      "[1] \"Plotting chr 2 arm-level figure\"\n",
      "[1] \"Plotting chr 3 arm-level figure\"\n",
      "[1] \"Plotting chr 4 arm-level figure\"\n",
      "[1] \"Plotting chr 5 arm-level figure\"\n"
     ]
    },
    {
     "name": "stderr",
     "output_type": "stream",
     "text": [
      "Warning message:\n",
      "\"\u001b[1m\u001b[22mRemoved 2 rows containing missing values or values outside the scale range\n",
      "(`geom_smooth()`).\"\n"
     ]
    },
    {
     "name": "stdout",
     "output_type": "stream",
     "text": [
      "[1] \"Plotting chr 6 arm-level figure\"\n",
      "[1] \"Plotting chr 7 arm-level figure\"\n",
      "[1] \"Plotting chr 8 arm-level figure\"\n",
      "[1] \"Plotting chr 9 arm-level figure\"\n",
      "[1] \"Plotting chr 10 arm-level figure\"\n",
      "[1] \"Plotting chr 11 arm-level figure\"\n",
      "[1] \"Plotting chr 12 arm-level figure\"\n",
      "[1] \"Plotting chr 13 arm-level figure\"\n",
      "[1] \"Plotting chr 14 arm-level figure\"\n"
     ]
    },
    {
     "name": "stderr",
     "output_type": "stream",
     "text": [
      "Warning message:\n",
      "\"\u001b[1m\u001b[22mRemoved 1 row containing missing values or values outside the scale range\n",
      "(`geom_smooth()`).\"\n"
     ]
    },
    {
     "name": "stdout",
     "output_type": "stream",
     "text": [
      "[1] \"Plotting chr 15 arm-level figure\"\n",
      "[1] \"Plotting chr 16 arm-level figure\"\n",
      "[1] \"Plotting chr 17 arm-level figure\"\n",
      "[1] \"Plotting chr 18 arm-level figure\"\n",
      "[1] \"Plotting chr 19 arm-level figure\"\n",
      "[1] \"Plotting chr 20 arm-level figure\"\n",
      "[1] \"Plotting chr 21 arm-level figure\"\n",
      "[1] \"Plotting chr 22 arm-level figure\"\n"
     ]
    },
    {
     "name": "stderr",
     "output_type": "stream",
     "text": [
      "Warning message:\n",
      "\"\u001b[1m\u001b[22mRemoved 21 rows containing missing values or values outside the scale range\n",
      "(`geom_smooth()`).\"\n"
     ]
    },
    {
     "name": "stdout",
     "output_type": "stream",
     "text": [
      "[1] \"Plotting chr X arm-level figure\"\n",
      "[1] \"Analysis for sample: WT finished\"\n"
     ]
    }
   ],
   "source": [
    "RNAseqCNV_wrapper(config = \"RNAseqCNV/data/config.txt\",\n",
    "                  metadata = \"RNAseqCNV/data/metadata\",\n",
    "                  snv_format = \"vcf\",\n",
    "                  genome_version = \"hg38\")"
   ]
  },
  {
   "cell_type": "code",
   "execution_count": null,
   "metadata": {
    "vscode": {
     "languageId": "r"
    }
   },
   "outputs": [],
   "source": []
  },
  {
   "cell_type": "markdown",
   "metadata": {},
   "source": [
    "# RNAseqCNV - Execution"
   ]
  },
  {
   "cell_type": "code",
   "execution_count": 7,
   "metadata": {
    "vscode": {
     "languageId": "r"
    }
   },
   "outputs": [
    {
     "name": "stdout",
     "output_type": "stream",
     "text": [
      "[1] \"Analysis initiated\"\n"
     ]
    },
    {
     "name": "stderr",
     "output_type": "stream",
     "text": [
      "Warning message in RNAseqCNV_wrapper(config = \"RNAseqCNV/data/config.txt\", metadata = \"RNAseqCNV/data/metadata\", :\n",
      "\"restarting interrupted promise evaluation\"\n"
     ]
    },
    {
     "name": "stdout",
     "output_type": "stream",
     "text": [
      "[1] \"Normalization for sample: TET2KO completed\"\n",
      "[1] \"Preparing file with snv information for: TET2KO\"\n"
     ]
    },
    {
     "name": "stderr",
     "output_type": "stream",
     "text": [
      "Reading in vcf file..\n",
      "\n",
      "Extracting depth..\n",
      "\n",
      "Extracting reference allele and alternative allele depths..\n",
      "\n",
      "Needed information from vcf extracted\n",
      "\n",
      "Finished reading vcf\n",
      "\n",
      "Warning message:\n",
      "\"\u001b[1m\u001b[22mThere was 1 warning in `mutate()`.\n",
      "\u001b[1m\u001b[22m\u001b[36mi\u001b[39m In argument: `count_nor_med = log2(.[, 1]/med)`.\n",
      "Caused by warning:\n",
      "\u001b[33m!\u001b[39m NaNs produced\"\n"
     ]
    },
    {
     "name": "stdout",
     "output_type": "stream",
     "text": [
      "[1] \"Estimating chromosome arm CNV: TET2KO\"\n",
      "[1] \"Plotting main figure: TET2KO\"\n",
      "[1] \"Plotting arm-level figures: TET2KO\"\n",
      "[1] \"Plotting chr 1 arm-level figure\"\n",
      "[1] \"Plotting chr 2 arm-level figure\"\n",
      "[1] \"Plotting chr 3 arm-level figure\"\n",
      "[1] \"Plotting chr 4 arm-level figure\"\n",
      "[1] \"Plotting chr 5 arm-level figure\"\n"
     ]
    },
    {
     "name": "stderr",
     "output_type": "stream",
     "text": [
      "Warning message:\n",
      "\"\u001b[1m\u001b[22mRemoved 4 rows containing missing values or values outside the scale range\n",
      "(`geom_smooth()`).\"\n"
     ]
    },
    {
     "name": "stdout",
     "output_type": "stream",
     "text": [
      "[1] \"Plotting chr 6 arm-level figure\"\n"
     ]
    },
    {
     "name": "stderr",
     "output_type": "stream",
     "text": [
      "Warning message:\n",
      "\"\u001b[1m\u001b[22mRemoved 4 rows containing missing values or values outside the scale range\n",
      "(`geom_smooth()`).\"\n"
     ]
    },
    {
     "name": "stdout",
     "output_type": "stream",
     "text": [
      "[1] \"Plotting chr 7 arm-level figure\"\n",
      "[1] \"Plotting chr 8 arm-level figure\"\n",
      "[1] \"Plotting chr 9 arm-level figure\"\n",
      "[1] \"Plotting chr 10 arm-level figure\"\n",
      "[1] \"Plotting chr 11 arm-level figure\"\n",
      "[1] \"Plotting chr 12 arm-level figure\"\n",
      "[1] \"Plotting chr 13 arm-level figure\"\n"
     ]
    },
    {
     "name": "stderr",
     "output_type": "stream",
     "text": [
      "Warning message:\n",
      "\"\u001b[1m\u001b[22mRemoved 10 rows containing missing values or values outside the scale range\n",
      "(`geom_smooth()`).\"\n"
     ]
    },
    {
     "name": "stdout",
     "output_type": "stream",
     "text": [
      "[1] \"Plotting chr 14 arm-level figure\"\n"
     ]
    },
    {
     "name": "stderr",
     "output_type": "stream",
     "text": [
      "Warning message:\n",
      "\"\u001b[1m\u001b[22mRemoved 1 row containing missing values or values outside the scale range\n",
      "(`geom_smooth()`).\"\n"
     ]
    },
    {
     "name": "stdout",
     "output_type": "stream",
     "text": [
      "[1] \"Plotting chr 15 arm-level figure\"\n"
     ]
    },
    {
     "name": "stderr",
     "output_type": "stream",
     "text": [
      "Warning message:\n",
      "\"\u001b[1m\u001b[22mRemoved 5 rows containing missing values or values outside the scale range\n",
      "(`geom_smooth()`).\"\n"
     ]
    },
    {
     "name": "stdout",
     "output_type": "stream",
     "text": [
      "[1] \"Plotting chr 16 arm-level figure\"\n",
      "[1] \"Plotting chr 17 arm-level figure\"\n",
      "[1] \"Plotting chr 18 arm-level figure\"\n",
      "[1] \"Plotting chr 19 arm-level figure\"\n",
      "[1] \"Plotting chr 20 arm-level figure\"\n",
      "[1] \"Plotting chr 21 arm-level figure\"\n"
     ]
    },
    {
     "name": "stderr",
     "output_type": "stream",
     "text": [
      "Warning message:\n",
      "\"\u001b[1m\u001b[22mRemoved 49 rows containing missing values or values outside the scale range\n",
      "(`geom_smooth()`).\"\n"
     ]
    },
    {
     "name": "stdout",
     "output_type": "stream",
     "text": [
      "[1] \"Plotting chr 22 arm-level figure\"\n"
     ]
    },
    {
     "name": "stderr",
     "output_type": "stream",
     "text": [
      "Warning message:\n",
      "\"\u001b[1m\u001b[22mRemoved 26 rows containing missing values or values outside the scale range\n",
      "(`geom_smooth()`).\"\n"
     ]
    },
    {
     "name": "stdout",
     "output_type": "stream",
     "text": [
      "[1] \"Plotting chr X arm-level figure\"\n",
      "[1] \"Analysis for sample: TET2KO finished\"\n",
      "[1] \"Normalization for sample: WT completed\"\n",
      "[1] \"Preparing file with snv information for: WT\"\n"
     ]
    },
    {
     "name": "stderr",
     "output_type": "stream",
     "text": [
      "Reading in vcf file..\n",
      "\n",
      "Extracting depth..\n",
      "\n",
      "Extracting reference allele and alternative allele depths..\n",
      "\n",
      "Needed information from vcf extracted\n",
      "\n",
      "Finished reading vcf\n",
      "\n",
      "Warning message:\n",
      "\"\u001b[1m\u001b[22mThere was 1 warning in `mutate()`.\n",
      "\u001b[1m\u001b[22m\u001b[36mi\u001b[39m In argument: `count_nor_med = log2(.[, 1]/med)`.\n",
      "Caused by warning:\n",
      "\u001b[33m!\u001b[39m NaNs produced\"\n"
     ]
    },
    {
     "name": "stdout",
     "output_type": "stream",
     "text": [
      "[1] \"Estimating chromosome arm CNV: WT\"\n",
      "[1] \"Plotting main figure: WT\"\n",
      "[1] \"Plotting arm-level figures: WT\"\n",
      "[1] \"Plotting chr 1 arm-level figure\"\n",
      "[1] \"Plotting chr 2 arm-level figure\"\n",
      "[1] \"Plotting chr 3 arm-level figure\"\n",
      "[1] \"Plotting chr 4 arm-level figure\"\n",
      "[1] \"Plotting chr 5 arm-level figure\"\n"
     ]
    },
    {
     "name": "stderr",
     "output_type": "stream",
     "text": [
      "Warning message:\n",
      "\"\u001b[1m\u001b[22mRemoved 5 rows containing missing values or values outside the scale range\n",
      "(`geom_smooth()`).\"\n"
     ]
    },
    {
     "name": "stdout",
     "output_type": "stream",
     "text": [
      "[1] \"Plotting chr 6 arm-level figure\"\n"
     ]
    },
    {
     "name": "stderr",
     "output_type": "stream",
     "text": [
      "Warning message:\n",
      "\"\u001b[1m\u001b[22mRemoved 5 rows containing missing values or values outside the scale range\n",
      "(`geom_smooth()`).\"\n"
     ]
    },
    {
     "name": "stdout",
     "output_type": "stream",
     "text": [
      "[1] \"Plotting chr 7 arm-level figure\"\n",
      "[1] \"Plotting chr 8 arm-level figure\"\n",
      "[1] \"Plotting chr 9 arm-level figure\"\n",
      "[1] \"Plotting chr 10 arm-level figure\"\n",
      "[1] \"Plotting chr 11 arm-level figure\"\n",
      "[1] \"Plotting chr 12 arm-level figure\"\n",
      "[1] \"Plotting chr 13 arm-level figure\"\n",
      "[1] \"Plotting chr 14 arm-level figure\"\n",
      "[1] \"Plotting chr 15 arm-level figure\"\n",
      "[1] \"Plotting chr 16 arm-level figure\"\n",
      "[1] \"Plotting chr 17 arm-level figure\"\n",
      "[1] \"Plotting chr 18 arm-level figure\"\n",
      "[1] \"Plotting chr 19 arm-level figure\"\n",
      "[1] \"Plotting chr 20 arm-level figure\"\n",
      "[1] \"Plotting chr 21 arm-level figure\"\n"
     ]
    },
    {
     "name": "stderr",
     "output_type": "stream",
     "text": [
      "Warning message:\n",
      "\"\u001b[1m\u001b[22mRemoved 50 rows containing missing values or values outside the scale range\n",
      "(`geom_smooth()`).\"\n"
     ]
    },
    {
     "name": "stdout",
     "output_type": "stream",
     "text": [
      "[1] \"Plotting chr 22 arm-level figure\"\n"
     ]
    },
    {
     "name": "stderr",
     "output_type": "stream",
     "text": [
      "Warning message:\n",
      "\"\u001b[1m\u001b[22mRemoved 25 rows containing missing values or values outside the scale range\n",
      "(`geom_smooth()`).\"\n"
     ]
    },
    {
     "name": "stdout",
     "output_type": "stream",
     "text": [
      "[1] \"Plotting chr X arm-level figure\"\n",
      "[1] \"Analysis for sample: WT finished\"\n"
     ]
    }
   ],
   "source": [
    "RNAseqCNV_wrapper(\n",
    "    config = \"RNAseqCNV/data/config.txt\",\n",
    "    metadata = \"RNAseqCNV/data/metadata\",\n",
    "    snv_format = \"vcf\",\n",
    "    genome_version = \"hg19\",\n",
    "    arm_lvl = TRUE,\n",
    "    estimate_lab = TRUE,\n",
    "    CNV_matrix = TRUE\n",
    ")"
   ]
  },
  {
   "cell_type": "code",
   "execution_count": null,
   "metadata": {
    "vscode": {
     "languageId": "r"
    }
   },
   "outputs": [],
   "source": []
  },
  {
   "cell_type": "code",
   "execution_count": null,
   "metadata": {
    "vscode": {
     "languageId": "r"
    }
   },
   "outputs": [],
   "source": []
  }
 ],
 "metadata": {
  "kernelspec": {
   "display_name": "R",
   "language": "R",
   "name": "ir"
  },
  "language_info": {
   "codemirror_mode": "r",
   "file_extension": ".r",
   "mimetype": "text/x-r-source",
   "name": "R",
   "pygments_lexer": "r",
   "version": "4.4.2"
  }
 },
 "nbformat": 4,
 "nbformat_minor": 2
}
