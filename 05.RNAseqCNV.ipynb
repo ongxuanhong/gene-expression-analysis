{
 "cells": [
  {
   "cell_type": "code",
   "execution_count": 2,
   "metadata": {
    "vscode": {
     "languageId": "r"
    }
   },
   "outputs": [
    {
     "name": "stderr",
     "output_type": "stream",
     "text": [
      "also installing the dependencies 'credentials', 'zip', 'gitcreds', 'ini', 'httpuv', 'xtable', 'sourcetools', 'later', 'promises', 'diffobj', 'gert', 'gh', 'whisker', 'shiny', 'downlit', 'httr2', 'htmlwidgets', 'xopen', 'brio', 'praise', 'waldo', 'usethis', 'ellipsis', 'miniUI', 'pkgdown', 'profvis', 'rcmdcheck', 'rversions', 'sessioninfo', 'testthat', 'urlchecker'\n",
      "\n",
      "\n"
     ]
    },
    {
     "name": "stdout",
     "output_type": "stream",
     "text": [
      "\n",
      "The downloaded binary packages are in\n",
      "\t/var/folders/y2/hzjfncr92llg100m08nwxmhc0000gn/T//Rtmp7jJTBc/downloaded_packages\n"
     ]
    },
    {
     "name": "stderr",
     "output_type": "stream",
     "text": [
      "Downloading GitHub repo honzee/RNAseqCNV@HEAD\n",
      "\n"
     ]
    },
    {
     "name": "stdout",
     "output_type": "stream",
     "text": [
      "matrixStats  (1.4.1  -> 1.5.0    ) [CRAN]\n",
      "pillar       (1.10.0 -> 1.10.1   ) [CRAN]\n",
      "bitops       (NA     -> 1.0-9    ) [CRAN]\n",
      "RCurl        (NA     -> 1.98-1.16) [CRAN]\n",
      "rbibutils    (NA     -> 2.3      ) [CRAN]\n",
      "Rdpack       (NA     -> 2.6.2    ) [CRAN]\n",
      "microbenc... (NA     -> 1.5.0    ) [CRAN]\n",
      "Deriv        (NA     -> 4.1.6    ) [CRAN]\n",
      "MatrixModels (NA     -> 0.5-3    ) [CRAN]\n",
      "SparseM      (NA     -> 1.84-2   ) [CRAN]\n",
      "doBy         (NA     -> 4.6.24   ) [CRAN]\n",
      "reformulas   (NA     -> 0.4.0    ) [CRAN]\n",
      "nloptr       (NA     -> 2.1.1    ) [CRAN]\n",
      "minqa        (NA     -> 1.2.8    ) [CRAN]\n",
      "lme4         (NA     -> 1.1-36   ) [CRAN]\n",
      "quantreg     (NA     -> 5.99.1   ) [CRAN]\n",
      "pbkrtest     (NA     -> 0.5.3    ) [CRAN]\n",
      "Formula      (NA     -> 1.2-5    ) [CRAN]\n",
      "carData      (NA     -> 3.0-5    ) [CRAN]\n",
      "car          (NA     -> 3.1-3    ) [CRAN]\n",
      "corrplot     (NA     -> 0.95     ) [CRAN]\n",
      "rstatix      (NA     -> 0.7.2    ) [CRAN]\n",
      "polynom      (NA     -> 1.4-1    ) [CRAN]\n",
      "gridExtra    (NA     -> 2.3      ) [CRAN]\n",
      "ggsignif     (NA     -> 0.6.4    ) [CRAN]\n",
      "ggsci        (NA     -> 3.2.0    ) [CRAN]\n",
      "shinyFiles   (NA     -> 0.9.3    ) [CRAN]\n",
      "randomForest (NA     -> 4.7-1.2  ) [CRAN]\n",
      "ggpubr       (NA     -> 0.6.0    ) [CRAN]\n"
     ]
    },
    {
     "name": "stderr",
     "output_type": "stream",
     "text": [
      "Skipping 16 packages ahead of CRAN: BiocGenerics, zlibbioc, XVector, GenomeInfoDbData, SparseArray, DelayedArray, S4Arrays, GenomeInfoDb, IRanges, S4Vectors, Biobase, GenomicRanges, MatrixGenerics, BiocParallel, SummarizedExperiment, DESeq2\n",
      "\n",
      "Installing 29 packages: matrixStats, pillar, bitops, RCurl, rbibutils, Rdpack, microbenchmark, Deriv, MatrixModels, SparseM, doBy, reformulas, nloptr, minqa, lme4, quantreg, pbkrtest, Formula, carData, car, corrplot, rstatix, polynom, gridExtra, ggsignif, ggsci, shinyFiles, randomForest, ggpubr\n",
      "\n",
      "Warning message:\n",
      "\"unable to access index for repository https://bioconductor.org/packages/3.18/bioc/bin/macosx/big-sur-arm64/contrib/4.4:\n",
      "  cannot open URL 'https://bioconductor.org/packages/3.18/bioc/bin/macosx/big-sur-arm64/contrib/4.4/PACKAGES'\"\n",
      "Warning message:\n",
      "\"unable to access index for repository https://bioconductor.org/packages/3.18/data/annotation/bin/macosx/big-sur-arm64/contrib/4.4:\n",
      "  cannot open URL 'https://bioconductor.org/packages/3.18/data/annotation/bin/macosx/big-sur-arm64/contrib/4.4/PACKAGES'\"\n",
      "Warning message:\n",
      "\"unable to access index for repository https://bioconductor.org/packages/3.18/data/experiment/bin/macosx/big-sur-arm64/contrib/4.4:\n",
      "  cannot open URL 'https://bioconductor.org/packages/3.18/data/experiment/bin/macosx/big-sur-arm64/contrib/4.4/PACKAGES'\"\n",
      "Warning message:\n",
      "\"unable to access index for repository https://bioconductor.org/packages/3.18/workflows/bin/macosx/big-sur-arm64/contrib/4.4:\n",
      "  cannot open URL 'https://bioconductor.org/packages/3.18/workflows/bin/macosx/big-sur-arm64/contrib/4.4/PACKAGES'\"\n",
      "Warning message:\n",
      "\"unable to access index for repository https://bioconductor.org/packages/3.18/books/bin/macosx/big-sur-arm64/contrib/4.4:\n",
      "  cannot open URL 'https://bioconductor.org/packages/3.18/books/bin/macosx/big-sur-arm64/contrib/4.4/PACKAGES'\"\n"
     ]
    },
    {
     "name": "stdout",
     "output_type": "stream",
     "text": [
      "\n",
      "The downloaded binary packages are in\n",
      "\t/var/folders/y2/hzjfncr92llg100m08nwxmhc0000gn/T//Rtmp7jJTBc/downloaded_packages\n",
      "\u001b[36m--\u001b[39m \u001b[36mR CMD build\u001b[39m \u001b[36m-----------------------------------------------------------------\u001b[39m\n",
      "* checking for file '/private/var/folders/y2/hzjfncr92llg100m08nwxmhc0000gn/T/Rtmp7jJTBc/remotes2837de0f308/honzee-RNAseqCNV-12af689/DESCRIPTION' ... OK\n",
      "* preparing 'RNAseqCNV':\n",
      "* checking DESCRIPTION meta-information ... OK\n",
      "* checking for LF line-endings in source and make files and shell scripts\n",
      "* checking for empty or unneeded directories\n",
      "  NB: this package now depends on R (>= 3.5.0)\n",
      "  WARNING: Added dependency on R >= 3.5.0 because serialized objects in\n",
      "  serialize/load version 3 cannot be read in older versions of R.\n",
      "  File(s) containing such objects:\n",
      "    'RNAseqCNV/data/centromeres_hg38.rda' 'RNAseqCNV/data/dbSNP_hg38.rda'\n",
      "    'RNAseqCNV/data/gene_annot_hg38.rda'\n",
      "    'RNAseqCNV/data/pseudoautosomal_regions_hg38.rda'\n",
      "* building 'RNAseqCNV_1.2.2.tar.gz'\n",
      "\n"
     ]
    }
   ],
   "source": [
    "# install devtools\n",
    "# https://github.com/honzee/RNAseqCNV\n",
    "install.packages(\"devtools\")\n",
    "\n",
    "# install RNAseqCNV package\n",
    "devtools::install_github(repo = \"honzee/RNAseqCNV\")"
   ]
  },
  {
   "cell_type": "code",
   "execution_count": 3,
   "metadata": {
    "vscode": {
     "languageId": "r"
    }
   },
   "outputs": [],
   "source": [
    "# Examples of basic function calls:\n",
    "library(RNAseqCNV)"
   ]
  },
  {
   "cell_type": "code",
   "execution_count": 4,
   "metadata": {
    "vscode": {
     "languageId": "r"
    }
   },
   "outputs": [
    {
     "name": "stderr",
     "output_type": "stream",
     "text": [
      "Loading required package: shiny\n",
      "\n",
      "\n",
      "Listening on http://127.0.0.1:5984\n",
      "\n"
     ]
    }
   ],
   "source": [
    "# launch the Shiny app with:\n",
    "launchApp()"
   ]
  },
  {
   "cell_type": "code",
   "execution_count": null,
   "metadata": {
    "vscode": {
     "languageId": "r"
    }
   },
   "outputs": [],
   "source": []
  },
  {
   "cell_type": "code",
   "execution_count": null,
   "metadata": {
    "vscode": {
     "languageId": "r"
    }
   },
   "outputs": [],
   "source": []
  }
 ],
 "metadata": {
  "kernelspec": {
   "display_name": "R",
   "language": "R",
   "name": "ir"
  },
  "language_info": {
   "codemirror_mode": "r",
   "file_extension": ".r",
   "mimetype": "text/x-r-source",
   "name": "R",
   "pygments_lexer": "r",
   "version": "4.4.2"
  }
 },
 "nbformat": 4,
 "nbformat_minor": 2
}
