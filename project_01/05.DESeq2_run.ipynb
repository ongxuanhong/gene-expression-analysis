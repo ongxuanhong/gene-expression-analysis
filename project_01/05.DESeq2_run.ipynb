{
 "cells": [
  {
   "cell_type": "markdown",
   "metadata": {},
   "source": [
    "# Data preparation"
   ]
  },
  {
   "cell_type": "code",
   "execution_count": 1,
   "metadata": {
    "vscode": {
     "languageId": "r"
    }
   },
   "outputs": [
    {
     "name": "stderr",
     "output_type": "stream",
     "text": [
      "Loading required package: S4Vectors\n",
      "\n",
      "Loading required package: stats4\n",
      "\n",
      "Loading required package: BiocGenerics\n",
      "\n",
      "\n",
      "Attaching package: 'BiocGenerics'\n",
      "\n",
      "\n",
      "The following objects are masked from 'package:stats':\n",
      "\n",
      "    IQR, mad, sd, var, xtabs\n",
      "\n",
      "\n",
      "The following objects are masked from 'package:base':\n",
      "\n",
      "    Filter, Find, Map, Position, Reduce, anyDuplicated, aperm, append,\n",
      "    as.data.frame, basename, cbind, colnames, dirname, do.call,\n",
      "    duplicated, eval, evalq, get, grep, grepl, intersect, is.unsorted,\n",
      "    lapply, mapply, match, mget, order, paste, pmax, pmax.int, pmin,\n",
      "    pmin.int, rank, rbind, rownames, sapply, saveRDS, setdiff, table,\n",
      "    tapply, union, unique, unsplit, which.max, which.min\n",
      "\n",
      "\n",
      "\n",
      "Attaching package: 'S4Vectors'\n",
      "\n",
      "\n",
      "The following object is masked from 'package:utils':\n",
      "\n",
      "    findMatches\n",
      "\n",
      "\n",
      "The following objects are masked from 'package:base':\n",
      "\n",
      "    I, expand.grid, unname\n",
      "\n",
      "\n",
      "Loading required package: IRanges\n",
      "\n",
      "Loading required package: GenomicRanges\n",
      "\n",
      "Loading required package: GenomeInfoDb\n",
      "\n",
      "Loading required package: SummarizedExperiment\n",
      "\n",
      "Loading required package: MatrixGenerics\n",
      "\n",
      "Loading required package: matrixStats\n",
      "\n",
      "\n",
      "Attaching package: 'MatrixGenerics'\n",
      "\n",
      "\n",
      "The following objects are masked from 'package:matrixStats':\n",
      "\n",
      "    colAlls, colAnyNAs, colAnys, colAvgsPerRowSet, colCollapse,\n",
      "    colCounts, colCummaxs, colCummins, colCumprods, colCumsums,\n",
      "    colDiffs, colIQRDiffs, colIQRs, colLogSumExps, colMadDiffs,\n",
      "    colMads, colMaxs, colMeans2, colMedians, colMins, colOrderStats,\n",
      "    colProds, colQuantiles, colRanges, colRanks, colSdDiffs, colSds,\n",
      "    colSums2, colTabulates, colVarDiffs, colVars, colWeightedMads,\n",
      "    colWeightedMeans, colWeightedMedians, colWeightedSds,\n",
      "    colWeightedVars, rowAlls, rowAnyNAs, rowAnys, rowAvgsPerColSet,\n",
      "    rowCollapse, rowCounts, rowCummaxs, rowCummins, rowCumprods,\n",
      "    rowCumsums, rowDiffs, rowIQRDiffs, rowIQRs, rowLogSumExps,\n",
      "    rowMadDiffs, rowMads, rowMaxs, rowMeans2, rowMedians, rowMins,\n",
      "    rowOrderStats, rowProds, rowQuantiles, rowRanges, rowRanks,\n",
      "    rowSdDiffs, rowSds, rowSums2, rowTabulates, rowVarDiffs, rowVars,\n",
      "    rowWeightedMads, rowWeightedMeans, rowWeightedMedians,\n",
      "    rowWeightedSds, rowWeightedVars\n",
      "\n",
      "\n",
      "Loading required package: Biobase\n",
      "\n",
      "Welcome to Bioconductor\n",
      "\n",
      "    Vignettes contain introductory material; view with\n",
      "    'browseVignettes()'. To cite Bioconductor, see\n",
      "    'citation(\"Biobase\")', and for packages 'citation(\"pkgname\")'.\n",
      "\n",
      "\n",
      "\n",
      "Attaching package: 'Biobase'\n",
      "\n",
      "\n",
      "The following object is masked from 'package:MatrixGenerics':\n",
      "\n",
      "    rowMedians\n",
      "\n",
      "\n",
      "The following objects are masked from 'package:matrixStats':\n",
      "\n",
      "    anyMissing, rowMedians\n",
      "\n",
      "\n",
      "\n",
      "Attaching package: 'dplyr'\n",
      "\n",
      "\n",
      "The following object is masked from 'package:Biobase':\n",
      "\n",
      "    combine\n",
      "\n",
      "\n",
      "The following object is masked from 'package:matrixStats':\n",
      "\n",
      "    count\n",
      "\n",
      "\n",
      "The following objects are masked from 'package:GenomicRanges':\n",
      "\n",
      "    intersect, setdiff, union\n",
      "\n",
      "\n",
      "The following object is masked from 'package:GenomeInfoDb':\n",
      "\n",
      "    intersect\n",
      "\n",
      "\n",
      "The following objects are masked from 'package:IRanges':\n",
      "\n",
      "    collapse, desc, intersect, setdiff, slice, union\n",
      "\n",
      "\n",
      "The following objects are masked from 'package:S4Vectors':\n",
      "\n",
      "    first, intersect, rename, setdiff, setequal, union\n",
      "\n",
      "\n",
      "The following objects are masked from 'package:BiocGenerics':\n",
      "\n",
      "    combine, intersect, setdiff, union\n",
      "\n",
      "\n",
      "The following objects are masked from 'package:stats':\n",
      "\n",
      "    filter, lag\n",
      "\n",
      "\n",
      "The following objects are masked from 'package:base':\n",
      "\n",
      "    intersect, setdiff, setequal, union\n",
      "\n",
      "\n",
      "-- \u001b[1mAttaching core tidyverse packages\u001b[22m ------------------------ tidyverse 2.0.0 --\n",
      "\u001b[32mv\u001b[39m \u001b[34mforcats  \u001b[39m 1.0.0     \u001b[32mv\u001b[39m \u001b[34mstringr  \u001b[39m 1.5.1\n",
      "\u001b[32mv\u001b[39m \u001b[34mlubridate\u001b[39m 1.9.4     \u001b[32mv\u001b[39m \u001b[34mtibble   \u001b[39m 3.2.1\n",
      "\u001b[32mv\u001b[39m \u001b[34mpurrr    \u001b[39m 1.0.2     \u001b[32mv\u001b[39m \u001b[34mtidyr    \u001b[39m 1.3.1\n",
      "\u001b[32mv\u001b[39m \u001b[34mreadr    \u001b[39m 2.1.5     \n",
      "-- \u001b[1mConflicts\u001b[22m ------------------------------------------ tidyverse_conflicts() --\n",
      "\u001b[31mx\u001b[39m \u001b[34mlubridate\u001b[39m::\u001b[32m%within%()\u001b[39m masks \u001b[34mIRanges\u001b[39m::%within%()\n",
      "\u001b[31mx\u001b[39m \u001b[34mggplot2\u001b[39m::\u001b[32mPosition()\u001b[39m   masks \u001b[34mBiocGenerics\u001b[39m::Position(), \u001b[34mbase\u001b[39m::Position()\n",
      "\u001b[31mx\u001b[39m \u001b[34mdplyr\u001b[39m::\u001b[32mcollapse()\u001b[39m     masks \u001b[34mIRanges\u001b[39m::collapse()\n",
      "\u001b[31mx\u001b[39m \u001b[34mdplyr\u001b[39m::\u001b[32mcombine()\u001b[39m      masks \u001b[34mBiobase\u001b[39m::combine(), \u001b[34mBiocGenerics\u001b[39m::combine()\n",
      "\u001b[31mx\u001b[39m \u001b[34mdplyr\u001b[39m::\u001b[32mcount()\u001b[39m        masks \u001b[34mmatrixStats\u001b[39m::count()\n",
      "\u001b[31mx\u001b[39m \u001b[34mdplyr\u001b[39m::\u001b[32mdesc()\u001b[39m         masks \u001b[34mIRanges\u001b[39m::desc()\n",
      "\u001b[31mx\u001b[39m \u001b[34mtidyr\u001b[39m::\u001b[32mexpand()\u001b[39m       masks \u001b[34mS4Vectors\u001b[39m::expand()\n",
      "\u001b[31mx\u001b[39m \u001b[34mdplyr\u001b[39m::\u001b[32mfilter()\u001b[39m       masks \u001b[34mstats\u001b[39m::filter()\n",
      "\u001b[31mx\u001b[39m \u001b[34mdplyr\u001b[39m::\u001b[32mfirst()\u001b[39m        masks \u001b[34mS4Vectors\u001b[39m::first()\n",
      "\u001b[31mx\u001b[39m \u001b[34mdplyr\u001b[39m::\u001b[32mlag()\u001b[39m          masks \u001b[34mstats\u001b[39m::lag()\n",
      "\u001b[31mx\u001b[39m \u001b[34mpurrr\u001b[39m::\u001b[32mreduce()\u001b[39m       masks \u001b[34mGenomicRanges\u001b[39m::reduce(), \u001b[34mIRanges\u001b[39m::reduce()\n",
      "\u001b[31mx\u001b[39m \u001b[34mdplyr\u001b[39m::\u001b[32mrename()\u001b[39m       masks \u001b[34mS4Vectors\u001b[39m::rename()\n",
      "\u001b[31mx\u001b[39m \u001b[34mlubridate\u001b[39m::\u001b[32msecond()\u001b[39m   masks \u001b[34mS4Vectors\u001b[39m::second()\n",
      "\u001b[31mx\u001b[39m \u001b[34mlubridate\u001b[39m::\u001b[32msecond<-()\u001b[39m masks \u001b[34mS4Vectors\u001b[39m::second<-()\n",
      "\u001b[31mx\u001b[39m \u001b[34mdplyr\u001b[39m::\u001b[32mslice()\u001b[39m        masks \u001b[34mIRanges\u001b[39m::slice()\n",
      "\u001b[36mi\u001b[39m Use the conflicted package (\u001b[3m\u001b[34m<http://conflicted.r-lib.org/>\u001b[39m\u001b[23m) to force all conflicts to become errors\n",
      "\n",
      "Attaching package: 'reshape2'\n",
      "\n",
      "\n",
      "The following object is masked from 'package:tidyr':\n",
      "\n",
      "    smiths\n",
      "\n",
      "\n",
      "\n",
      "Attaching package: 'data.table'\n",
      "\n",
      "\n",
      "The following objects are masked from 'package:reshape2':\n",
      "\n",
      "    dcast, melt\n",
      "\n",
      "\n",
      "The following objects are masked from 'package:lubridate':\n",
      "\n",
      "    hour, isoweek, mday, minute, month, quarter, second, wday, week,\n",
      "    yday, year\n",
      "\n",
      "\n",
      "The following object is masked from 'package:purrr':\n",
      "\n",
      "    transpose\n",
      "\n",
      "\n",
      "The following objects are masked from 'package:dplyr':\n",
      "\n",
      "    between, first, last\n",
      "\n",
      "\n",
      "The following object is masked from 'package:SummarizedExperiment':\n",
      "\n",
      "    shift\n",
      "\n",
      "\n",
      "The following object is masked from 'package:GenomicRanges':\n",
      "\n",
      "    shift\n",
      "\n",
      "\n",
      "The following object is masked from 'package:IRanges':\n",
      "\n",
      "    shift\n",
      "\n",
      "\n",
      "The following objects are masked from 'package:S4Vectors':\n",
      "\n",
      "    first, second\n",
      "\n",
      "\n"
     ]
    }
   ],
   "source": [
    "library(DESeq2)\n",
    "library(ggplot2)\n",
    "library(pheatmap)\n",
    "library(dplyr)\n",
    "library(tidyverse)\n",
    "library(reshape2)\n",
    "library(ggrepel)\n",
    "library(data.table)\n",
    "library(biomaRt)"
   ]
  },
  {
   "cell_type": "code",
   "execution_count": null,
   "metadata": {
    "vscode": {
     "languageId": "r"
    }
   },
   "outputs": [],
   "source": []
  },
  {
   "cell_type": "code",
   "execution_count": 133,
   "metadata": {
    "vscode": {
     "languageId": "r"
    }
   },
   "outputs": [
    {
     "data": {
      "text/html": [
       "<style>\n",
       ".list-inline {list-style: none; margin:0; padding: 0}\n",
       ".list-inline>li {display: inline-block}\n",
       ".list-inline>li:not(:last-child)::after {content: \"\\00b7\"; padding: 0 .5ex}\n",
       "</style>\n",
       "<ol class=list-inline><li>57820</li><li>7</li></ol>\n"
      ],
      "text/latex": [
       "\\begin{enumerate*}\n",
       "\\item 57820\n",
       "\\item 7\n",
       "\\end{enumerate*}\n"
      ],
      "text/markdown": [
       "1. 57820\n",
       "2. 7\n",
       "\n",
       "\n"
      ],
      "text/plain": [
       "[1] 57820     7"
      ]
     },
     "metadata": {},
     "output_type": "display_data"
    },
    {
     "data": {
      "text/html": [
       "<table class=\"dataframe\">\n",
       "<caption>A data.frame: 6 x 7</caption>\n",
       "<thead>\n",
       "\t<tr><th></th><th scope=col>Geneid</th><th scope=col>X_filesTien_Cont1_S25sorted</th><th scope=col>X_filesTien_Cont2_S26sorted</th><th scope=col>X_filesTien_Cont3_S27sorted</th><th scope=col>X_filesTien_Zn1_S28sorted</th><th scope=col>X_filesTien_Zn2_S29sorted</th><th scope=col>X_filesTien_Zn3_S30sorted</th></tr>\n",
       "\t<tr><th></th><th scope=col>&lt;chr&gt;</th><th scope=col>&lt;int&gt;</th><th scope=col>&lt;int&gt;</th><th scope=col>&lt;int&gt;</th><th scope=col>&lt;int&gt;</th><th scope=col>&lt;int&gt;</th><th scope=col>&lt;int&gt;</th></tr>\n",
       "</thead>\n",
       "<tbody>\n",
       "\t<tr><th scope=row>0</th><td>ENSG00000223972</td><td> 0</td><td>  4</td><td>  1</td><td>  0</td><td>  5</td><td>  0</td></tr>\n",
       "\t<tr><th scope=row>1</th><td>ENSG00000227232</td><td>34</td><td>531</td><td>758</td><td>632</td><td>558</td><td>496</td></tr>\n",
       "\t<tr><th scope=row>2</th><td>ENSG00000243485</td><td> 0</td><td>  1</td><td>  2</td><td>  0</td><td>  0</td><td>  1</td></tr>\n",
       "\t<tr><th scope=row>3</th><td>ENSG00000237613</td><td> 0</td><td>  0</td><td>  0</td><td>  0</td><td>  0</td><td>  0</td></tr>\n",
       "\t<tr><th scope=row>4</th><td>ENSG00000268020</td><td> 0</td><td>  0</td><td>  0</td><td>  0</td><td>  0</td><td>  0</td></tr>\n",
       "\t<tr><th scope=row>5</th><td>ENSG00000240361</td><td> 0</td><td>  0</td><td>  0</td><td>  0</td><td>  0</td><td>  0</td></tr>\n",
       "</tbody>\n",
       "</table>\n"
      ],
      "text/latex": [
       "A data.frame: 6 x 7\n",
       "\\begin{tabular}{r|lllllll}\n",
       "  & Geneid & X\\_filesTien\\_Cont1\\_S25sorted & X\\_filesTien\\_Cont2\\_S26sorted & X\\_filesTien\\_Cont3\\_S27sorted & X\\_filesTien\\_Zn1\\_S28sorted & X\\_filesTien\\_Zn2\\_S29sorted & X\\_filesTien\\_Zn3\\_S30sorted\\\\\n",
       "  & <chr> & <int> & <int> & <int> & <int> & <int> & <int>\\\\\n",
       "\\hline\n",
       "\t0 & ENSG00000223972 &  0 &   4 &   1 &   0 &   5 &   0\\\\\n",
       "\t1 & ENSG00000227232 & 34 & 531 & 758 & 632 & 558 & 496\\\\\n",
       "\t2 & ENSG00000243485 &  0 &   1 &   2 &   0 &   0 &   1\\\\\n",
       "\t3 & ENSG00000237613 &  0 &   0 &   0 &   0 &   0 &   0\\\\\n",
       "\t4 & ENSG00000268020 &  0 &   0 &   0 &   0 &   0 &   0\\\\\n",
       "\t5 & ENSG00000240361 &  0 &   0 &   0 &   0 &   0 &   0\\\\\n",
       "\\end{tabular}\n"
      ],
      "text/markdown": [
       "\n",
       "A data.frame: 6 x 7\n",
       "\n",
       "| <!--/--> | Geneid &lt;chr&gt; | X_filesTien_Cont1_S25sorted &lt;int&gt; | X_filesTien_Cont2_S26sorted &lt;int&gt; | X_filesTien_Cont3_S27sorted &lt;int&gt; | X_filesTien_Zn1_S28sorted &lt;int&gt; | X_filesTien_Zn2_S29sorted &lt;int&gt; | X_filesTien_Zn3_S30sorted &lt;int&gt; |\n",
       "|---|---|---|---|---|---|---|---|\n",
       "| 0 | ENSG00000223972 |  0 |   4 |   1 |   0 |   5 |   0 |\n",
       "| 1 | ENSG00000227232 | 34 | 531 | 758 | 632 | 558 | 496 |\n",
       "| 2 | ENSG00000243485 |  0 |   1 |   2 |   0 |   0 |   1 |\n",
       "| 3 | ENSG00000237613 |  0 |   0 |   0 |   0 |   0 |   0 |\n",
       "| 4 | ENSG00000268020 |  0 |   0 |   0 |   0 |   0 |   0 |\n",
       "| 5 | ENSG00000240361 |  0 |   0 |   0 |   0 |   0 |   0 |\n",
       "\n"
      ],
      "text/plain": [
       "  Geneid          X_filesTien_Cont1_S25sorted X_filesTien_Cont2_S26sorted\n",
       "0 ENSG00000223972  0                            4                        \n",
       "1 ENSG00000227232 34                          531                        \n",
       "2 ENSG00000243485  0                            1                        \n",
       "3 ENSG00000237613  0                            0                        \n",
       "4 ENSG00000268020  0                            0                        \n",
       "5 ENSG00000240361  0                            0                        \n",
       "  X_filesTien_Cont3_S27sorted X_filesTien_Zn1_S28sorted\n",
       "0   1                           0                      \n",
       "1 758                         632                      \n",
       "2   2                           0                      \n",
       "3   0                           0                      \n",
       "4   0                           0                      \n",
       "5   0                           0                      \n",
       "  X_filesTien_Zn2_S29sorted X_filesTien_Zn3_S30sorted\n",
       "0   5                         0                      \n",
       "1 558                       496                      \n",
       "2   0                         1                      \n",
       "3   0                         0                      \n",
       "4   0                         0                      \n",
       "5   0                         0                      "
      ]
     },
     "metadata": {},
     "output_type": "display_data"
    }
   ],
   "source": [
    "# Input read_count file\n",
    "df <- read.delim(\"data/gene_counts_raw.csv\", row.names = 1, sep = \",\")\n",
    "dim(df)\n",
    "head(df)"
   ]
  },
  {
   "cell_type": "code",
   "execution_count": 23,
   "metadata": {
    "vscode": {
     "languageId": "r"
    }
   },
   "outputs": [
    {
     "data": {
      "text/html": [
       "<style>\n",
       ".list-inline {list-style: none; margin:0; padding: 0}\n",
       ".list-inline>li {display: inline-block}\n",
       ".list-inline>li:not(:last-child)::after {content: \"\\00b7\"; padding: 0 .5ex}\n",
       "</style>\n",
       "<ol class=list-inline><li>'Geneid'</li><li>'X_filesTien_Cont1_S25sorted'</li><li>'X_filesTien_Cont2_S26sorted'</li><li>'X_filesTien_Cont3_S27sorted'</li><li>'X_filesTien_Zn1_S28sorted'</li><li>'X_filesTien_Zn2_S29sorted'</li><li>'X_filesTien_Zn3_S30sorted'</li></ol>\n"
      ],
      "text/latex": [
       "\\begin{enumerate*}\n",
       "\\item 'Geneid'\n",
       "\\item 'X\\_filesTien\\_Cont1\\_S25sorted'\n",
       "\\item 'X\\_filesTien\\_Cont2\\_S26sorted'\n",
       "\\item 'X\\_filesTien\\_Cont3\\_S27sorted'\n",
       "\\item 'X\\_filesTien\\_Zn1\\_S28sorted'\n",
       "\\item 'X\\_filesTien\\_Zn2\\_S29sorted'\n",
       "\\item 'X\\_filesTien\\_Zn3\\_S30sorted'\n",
       "\\end{enumerate*}\n"
      ],
      "text/markdown": [
       "1. 'Geneid'\n",
       "2. 'X_filesTien_Cont1_S25sorted'\n",
       "3. 'X_filesTien_Cont2_S26sorted'\n",
       "4. 'X_filesTien_Cont3_S27sorted'\n",
       "5. 'X_filesTien_Zn1_S28sorted'\n",
       "6. 'X_filesTien_Zn2_S29sorted'\n",
       "7. 'X_filesTien_Zn3_S30sorted'\n",
       "\n",
       "\n"
      ],
      "text/plain": [
       "[1] \"Geneid\"                      \"X_filesTien_Cont1_S25sorted\"\n",
       "[3] \"X_filesTien_Cont2_S26sorted\" \"X_filesTien_Cont3_S27sorted\"\n",
       "[5] \"X_filesTien_Zn1_S28sorted\"   \"X_filesTien_Zn2_S29sorted\"  \n",
       "[7] \"X_filesTien_Zn3_S30sorted\"  "
      ]
     },
     "metadata": {},
     "output_type": "display_data"
    }
   ],
   "source": [
    "# Get list of column names\n",
    "col_names <- colnames(df)\n",
    "col_names"
   ]
  },
  {
   "cell_type": "code",
   "execution_count": 24,
   "metadata": {
    "vscode": {
     "languageId": "r"
    }
   },
   "outputs": [
    {
     "name": "stderr",
     "output_type": "stream",
     "text": [
      "Warning message:\n",
      "\"Ensembl will soon enforce the use of https.\n",
      "Ensure the 'host' argument includes \"https://\"\"\n"
     ]
    },
    {
     "data": {
      "text/plain": [
       "Object of class 'Mart':\n",
       "  Using the ENSEMBL_MART_ENSEMBL BioMart database\n",
       "  Using the hsapiens_gene_ensembl dataset"
      ]
     },
     "metadata": {},
     "output_type": "display_data"
    }
   ],
   "source": [
    "# Connect to hg19/GRCh37 Ensembl archive\n",
    "# Note: Using archive since hg19/GRCh37 is an older assembly\n",
    "mart <- useMart(biomart = \"ENSEMBL_MART_ENSEMBL\",\n",
    "                dataset = \"hsapiens_gene_ensembl\",\n",
    "                host = \"grch37.ensembl.org\")\n",
    "mart"
   ]
  },
  {
   "cell_type": "code",
   "execution_count": 25,
   "metadata": {
    "vscode": {
     "languageId": "r"
    }
   },
   "outputs": [
    {
     "data": {
      "text/html": [
       "<table class=\"dataframe\">\n",
       "<caption>A data.frame: 6 x 6</caption>\n",
       "<thead>\n",
       "\t<tr><th></th><th scope=col>ensembl_gene_id</th><th scope=col>external_gene_name</th><th scope=col>description</th><th scope=col>chromosome_name</th><th scope=col>start_position</th><th scope=col>end_position</th></tr>\n",
       "\t<tr><th></th><th scope=col>&lt;chr&gt;</th><th scope=col>&lt;chr&gt;</th><th scope=col>&lt;chr&gt;</th><th scope=col>&lt;chr&gt;</th><th scope=col>&lt;int&gt;</th><th scope=col>&lt;int&gt;</th></tr>\n",
       "</thead>\n",
       "<tbody>\n",
       "\t<tr><th scope=row>1</th><td>ENSG00000000457</td><td>SCYL3 </td><td>SCY1-like 3 (S. cerevisiae) [Source:HGNC Symbol;Acc:19285]                         </td><td>1</td><td>169818772</td><td>169863408</td></tr>\n",
       "\t<tr><th scope=row>2</th><td>ENSG00000000938</td><td>FGR   </td><td>feline Gardner-Rasheed sarcoma viral oncogene homolog [Source:HGNC Symbol;Acc:3697]</td><td>1</td><td> 27938575</td><td> 27961788</td></tr>\n",
       "\t<tr><th scope=row>3</th><td>ENSG00000006555</td><td>TTC22 </td><td>tetratricopeptide repeat domain 22 [Source:HGNC Symbol;Acc:26067]                  </td><td>1</td><td> 55245385</td><td> 55266940</td></tr>\n",
       "\t<tr><th scope=row>4</th><td>ENSG00000007933</td><td>FMO3  </td><td>flavin containing monooxygenase 3 [Source:HGNC Symbol;Acc:3771]                    </td><td>1</td><td>171060018</td><td>171086959</td></tr>\n",
       "\t<tr><th scope=row>5</th><td>ENSG00000007968</td><td>E2F2  </td><td>E2F transcription factor 2 [Source:HGNC Symbol;Acc:3114]                           </td><td>1</td><td> 23832922</td><td> 23857712</td></tr>\n",
       "\t<tr><th scope=row>6</th><td>ENSG00000008118</td><td>CAMK1G</td><td>calcium/calmodulin-dependent protein kinase IG [Source:HGNC Symbol;Acc:14585]      </td><td>1</td><td>209757062</td><td>209787283</td></tr>\n",
       "</tbody>\n",
       "</table>\n"
      ],
      "text/latex": [
       "A data.frame: 6 x 6\n",
       "\\begin{tabular}{r|llllll}\n",
       "  & ensembl\\_gene\\_id & external\\_gene\\_name & description & chromosome\\_name & start\\_position & end\\_position\\\\\n",
       "  & <chr> & <chr> & <chr> & <chr> & <int> & <int>\\\\\n",
       "\\hline\n",
       "\t1 & ENSG00000000457 & SCYL3  & SCY1-like 3 (S. cerevisiae) {[}Source:HGNC Symbol;Acc:19285{]}                          & 1 & 169818772 & 169863408\\\\\n",
       "\t2 & ENSG00000000938 & FGR    & feline Gardner-Rasheed sarcoma viral oncogene homolog {[}Source:HGNC Symbol;Acc:3697{]} & 1 &  27938575 &  27961788\\\\\n",
       "\t3 & ENSG00000006555 & TTC22  & tetratricopeptide repeat domain 22 {[}Source:HGNC Symbol;Acc:26067{]}                   & 1 &  55245385 &  55266940\\\\\n",
       "\t4 & ENSG00000007933 & FMO3   & flavin containing monooxygenase 3 {[}Source:HGNC Symbol;Acc:3771{]}                     & 1 & 171060018 & 171086959\\\\\n",
       "\t5 & ENSG00000007968 & E2F2   & E2F transcription factor 2 {[}Source:HGNC Symbol;Acc:3114{]}                            & 1 &  23832922 &  23857712\\\\\n",
       "\t6 & ENSG00000008118 & CAMK1G & calcium/calmodulin-dependent protein kinase IG {[}Source:HGNC Symbol;Acc:14585{]}       & 1 & 209757062 & 209787283\\\\\n",
       "\\end{tabular}\n"
      ],
      "text/markdown": [
       "\n",
       "A data.frame: 6 x 6\n",
       "\n",
       "| <!--/--> | ensembl_gene_id &lt;chr&gt; | external_gene_name &lt;chr&gt; | description &lt;chr&gt; | chromosome_name &lt;chr&gt; | start_position &lt;int&gt; | end_position &lt;int&gt; |\n",
       "|---|---|---|---|---|---|---|\n",
       "| 1 | ENSG00000000457 | SCYL3  | SCY1-like 3 (S. cerevisiae) [Source:HGNC Symbol;Acc:19285]                          | 1 | 169818772 | 169863408 |\n",
       "| 2 | ENSG00000000938 | FGR    | feline Gardner-Rasheed sarcoma viral oncogene homolog [Source:HGNC Symbol;Acc:3697] | 1 |  27938575 |  27961788 |\n",
       "| 3 | ENSG00000006555 | TTC22  | tetratricopeptide repeat domain 22 [Source:HGNC Symbol;Acc:26067]                   | 1 |  55245385 |  55266940 |\n",
       "| 4 | ENSG00000007933 | FMO3   | flavin containing monooxygenase 3 [Source:HGNC Symbol;Acc:3771]                     | 1 | 171060018 | 171086959 |\n",
       "| 5 | ENSG00000007968 | E2F2   | E2F transcription factor 2 [Source:HGNC Symbol;Acc:3114]                            | 1 |  23832922 |  23857712 |\n",
       "| 6 | ENSG00000008118 | CAMK1G | calcium/calmodulin-dependent protein kinase IG [Source:HGNC Symbol;Acc:14585]       | 1 | 209757062 | 209787283 |\n",
       "\n"
      ],
      "text/plain": [
       "  ensembl_gene_id external_gene_name\n",
       "1 ENSG00000000457 SCYL3             \n",
       "2 ENSG00000000938 FGR               \n",
       "3 ENSG00000006555 TTC22             \n",
       "4 ENSG00000007933 FMO3              \n",
       "5 ENSG00000007968 E2F2              \n",
       "6 ENSG00000008118 CAMK1G            \n",
       "  description                                                                        \n",
       "1 SCY1-like 3 (S. cerevisiae) [Source:HGNC Symbol;Acc:19285]                         \n",
       "2 feline Gardner-Rasheed sarcoma viral oncogene homolog [Source:HGNC Symbol;Acc:3697]\n",
       "3 tetratricopeptide repeat domain 22 [Source:HGNC Symbol;Acc:26067]                  \n",
       "4 flavin containing monooxygenase 3 [Source:HGNC Symbol;Acc:3771]                    \n",
       "5 E2F transcription factor 2 [Source:HGNC Symbol;Acc:3114]                           \n",
       "6 calcium/calmodulin-dependent protein kinase IG [Source:HGNC Symbol;Acc:14585]      \n",
       "  chromosome_name start_position end_position\n",
       "1 1               169818772      169863408   \n",
       "2 1                27938575       27961788   \n",
       "3 1                55245385       55266940   \n",
       "4 1               171060018      171086959   \n",
       "5 1                23832922       23857712   \n",
       "6 1               209757062      209787283   "
      ]
     },
     "metadata": {},
     "output_type": "display_data"
    }
   ],
   "source": [
    "# Get mapping\n",
    "gene_info <- getBM(attributes = c(\"ensembl_gene_id\", \n",
    "                                \"external_gene_name\",\n",
    "                                \"description\",\n",
    "                                \"chromosome_name\",\n",
    "                                \"start_position\",\n",
    "                                \"end_position\"),\n",
    "                  filters = \"ensembl_gene_id\",\n",
    "                  values = df$Geneid,\n",
    "                  mart = mart)\n",
    "head(gene_info)"
   ]
  },
  {
   "cell_type": "code",
   "execution_count": 33,
   "metadata": {
    "vscode": {
     "languageId": "r"
    }
   },
   "outputs": [
    {
     "data": {
      "text/html": [
       "<table class=\"dataframe\">\n",
       "<caption>A data.frame: 6 x 12</caption>\n",
       "<thead>\n",
       "\t<tr><th></th><th scope=col>Geneid</th><th scope=col>X_filesTien_Cont1_S25sorted</th><th scope=col>X_filesTien_Cont2_S26sorted</th><th scope=col>X_filesTien_Cont3_S27sorted</th><th scope=col>X_filesTien_Zn1_S28sorted</th><th scope=col>X_filesTien_Zn2_S29sorted</th><th scope=col>X_filesTien_Zn3_S30sorted</th><th scope=col>external_gene_name</th><th scope=col>description</th><th scope=col>chromosome_name</th><th scope=col>start_position</th><th scope=col>end_position</th></tr>\n",
       "\t<tr><th></th><th scope=col>&lt;chr&gt;</th><th scope=col>&lt;int&gt;</th><th scope=col>&lt;int&gt;</th><th scope=col>&lt;int&gt;</th><th scope=col>&lt;int&gt;</th><th scope=col>&lt;int&gt;</th><th scope=col>&lt;int&gt;</th><th scope=col>&lt;chr&gt;</th><th scope=col>&lt;chr&gt;</th><th scope=col>&lt;chr&gt;</th><th scope=col>&lt;int&gt;</th><th scope=col>&lt;int&gt;</th></tr>\n",
       "</thead>\n",
       "<tbody>\n",
       "\t<tr><th scope=row>1</th><td>ENSG000000000031</td><td>497</td><td>6704</td><td>9591</td><td>5829</td><td>5506</td><td>3799</td><td>NA   </td><td>NA                                                                                                   </td><td>NA</td><td>       NA</td><td>       NA</td></tr>\n",
       "\t<tr><th scope=row>2</th><td>ENSG00000000005 </td><td> 71</td><td> 945</td><td>1295</td><td> 815</td><td> 729</td><td> 496</td><td>TNMD </td><td>tenomodulin [Source:HGNC Symbol;Acc:17757]                                                           </td><td>X </td><td> 99839799</td><td> 99854882</td></tr>\n",
       "\t<tr><th scope=row>3</th><td>ENSG00000000419 </td><td>185</td><td>2383</td><td>3464</td><td>3081</td><td>2884</td><td>2011</td><td>DPM1 </td><td>dolichyl-phosphate mannosyltransferase polypeptide 1, catalytic subunit [Source:HGNC Symbol;Acc:3005]</td><td>20</td><td> 49551404</td><td> 49575092</td></tr>\n",
       "\t<tr><th scope=row>4</th><td>ENSG00000000457 </td><td> 29</td><td> 576</td><td> 706</td><td> 623</td><td> 557</td><td> 351</td><td>SCYL3</td><td>SCY1-like 3 (S. cerevisiae) [Source:HGNC Symbol;Acc:19285]                                           </td><td>1 </td><td>169818772</td><td>169863408</td></tr>\n",
       "\t<tr><th scope=row>5</th><td>ENSG000000004601</td><td> 67</td><td>1018</td><td>1372</td><td>1069</td><td>1101</td><td> 673</td><td>NA   </td><td>NA                                                                                                   </td><td>NA</td><td>       NA</td><td>       NA</td></tr>\n",
       "\t<tr><th scope=row>6</th><td>ENSG00000000938 </td><td>  2</td><td>  22</td><td>  43</td><td>  37</td><td>  27</td><td>  22</td><td>FGR  </td><td>feline Gardner-Rasheed sarcoma viral oncogene homolog [Source:HGNC Symbol;Acc:3697]                  </td><td>1 </td><td> 27938575</td><td> 27961788</td></tr>\n",
       "</tbody>\n",
       "</table>\n"
      ],
      "text/latex": [
       "A data.frame: 6 x 12\n",
       "\\begin{tabular}{r|llllllllllll}\n",
       "  & Geneid & X\\_filesTien\\_Cont1\\_S25sorted & X\\_filesTien\\_Cont2\\_S26sorted & X\\_filesTien\\_Cont3\\_S27sorted & X\\_filesTien\\_Zn1\\_S28sorted & X\\_filesTien\\_Zn2\\_S29sorted & X\\_filesTien\\_Zn3\\_S30sorted & external\\_gene\\_name & description & chromosome\\_name & start\\_position & end\\_position\\\\\n",
       "  & <chr> & <int> & <int> & <int> & <int> & <int> & <int> & <chr> & <chr> & <chr> & <int> & <int>\\\\\n",
       "\\hline\n",
       "\t1 & ENSG000000000031 & 497 & 6704 & 9591 & 5829 & 5506 & 3799 & NA    & NA                                                                                                    & NA &        NA &        NA\\\\\n",
       "\t2 & ENSG00000000005  &  71 &  945 & 1295 &  815 &  729 &  496 & TNMD  & tenomodulin {[}Source:HGNC Symbol;Acc:17757{]}                                                            & X  &  99839799 &  99854882\\\\\n",
       "\t3 & ENSG00000000419  & 185 & 2383 & 3464 & 3081 & 2884 & 2011 & DPM1  & dolichyl-phosphate mannosyltransferase polypeptide 1, catalytic subunit {[}Source:HGNC Symbol;Acc:3005{]} & 20 &  49551404 &  49575092\\\\\n",
       "\t4 & ENSG00000000457  &  29 &  576 &  706 &  623 &  557 &  351 & SCYL3 & SCY1-like 3 (S. cerevisiae) {[}Source:HGNC Symbol;Acc:19285{]}                                            & 1  & 169818772 & 169863408\\\\\n",
       "\t5 & ENSG000000004601 &  67 & 1018 & 1372 & 1069 & 1101 &  673 & NA    & NA                                                                                                    & NA &        NA &        NA\\\\\n",
       "\t6 & ENSG00000000938  &   2 &   22 &   43 &   37 &   27 &   22 & FGR   & feline Gardner-Rasheed sarcoma viral oncogene homolog {[}Source:HGNC Symbol;Acc:3697{]}                   & 1  &  27938575 &  27961788\\\\\n",
       "\\end{tabular}\n"
      ],
      "text/markdown": [
       "\n",
       "A data.frame: 6 x 12\n",
       "\n",
       "| <!--/--> | Geneid &lt;chr&gt; | X_filesTien_Cont1_S25sorted &lt;int&gt; | X_filesTien_Cont2_S26sorted &lt;int&gt; | X_filesTien_Cont3_S27sorted &lt;int&gt; | X_filesTien_Zn1_S28sorted &lt;int&gt; | X_filesTien_Zn2_S29sorted &lt;int&gt; | X_filesTien_Zn3_S30sorted &lt;int&gt; | external_gene_name &lt;chr&gt; | description &lt;chr&gt; | chromosome_name &lt;chr&gt; | start_position &lt;int&gt; | end_position &lt;int&gt; |\n",
       "|---|---|---|---|---|---|---|---|---|---|---|---|---|\n",
       "| 1 | ENSG000000000031 | 497 | 6704 | 9591 | 5829 | 5506 | 3799 | NA    | NA                                                                                                    | NA |        NA |        NA |\n",
       "| 2 | ENSG00000000005  |  71 |  945 | 1295 |  815 |  729 |  496 | TNMD  | tenomodulin [Source:HGNC Symbol;Acc:17757]                                                            | X  |  99839799 |  99854882 |\n",
       "| 3 | ENSG00000000419  | 185 | 2383 | 3464 | 3081 | 2884 | 2011 | DPM1  | dolichyl-phosphate mannosyltransferase polypeptide 1, catalytic subunit [Source:HGNC Symbol;Acc:3005] | 20 |  49551404 |  49575092 |\n",
       "| 4 | ENSG00000000457  |  29 |  576 |  706 |  623 |  557 |  351 | SCYL3 | SCY1-like 3 (S. cerevisiae) [Source:HGNC Symbol;Acc:19285]                                            | 1  | 169818772 | 169863408 |\n",
       "| 5 | ENSG000000004601 |  67 | 1018 | 1372 | 1069 | 1101 |  673 | NA    | NA                                                                                                    | NA |        NA |        NA |\n",
       "| 6 | ENSG00000000938  |   2 |   22 |   43 |   37 |   27 |   22 | FGR   | feline Gardner-Rasheed sarcoma viral oncogene homolog [Source:HGNC Symbol;Acc:3697]                   | 1  |  27938575 |  27961788 |\n",
       "\n"
      ],
      "text/plain": [
       "  Geneid           X_filesTien_Cont1_S25sorted X_filesTien_Cont2_S26sorted\n",
       "1 ENSG000000000031 497                         6704                       \n",
       "2 ENSG00000000005   71                          945                       \n",
       "3 ENSG00000000419  185                         2383                       \n",
       "4 ENSG00000000457   29                          576                       \n",
       "5 ENSG000000004601  67                         1018                       \n",
       "6 ENSG00000000938    2                           22                       \n",
       "  X_filesTien_Cont3_S27sorted X_filesTien_Zn1_S28sorted\n",
       "1 9591                        5829                     \n",
       "2 1295                         815                     \n",
       "3 3464                        3081                     \n",
       "4  706                         623                     \n",
       "5 1372                        1069                     \n",
       "6   43                          37                     \n",
       "  X_filesTien_Zn2_S29sorted X_filesTien_Zn3_S30sorted external_gene_name\n",
       "1 5506                      3799                      NA                \n",
       "2  729                       496                      TNMD              \n",
       "3 2884                      2011                      DPM1              \n",
       "4  557                       351                      SCYL3             \n",
       "5 1101                       673                      NA                \n",
       "6   27                        22                      FGR               \n",
       "  description                                                                                          \n",
       "1 NA                                                                                                   \n",
       "2 tenomodulin [Source:HGNC Symbol;Acc:17757]                                                           \n",
       "3 dolichyl-phosphate mannosyltransferase polypeptide 1, catalytic subunit [Source:HGNC Symbol;Acc:3005]\n",
       "4 SCY1-like 3 (S. cerevisiae) [Source:HGNC Symbol;Acc:19285]                                           \n",
       "5 NA                                                                                                   \n",
       "6 feline Gardner-Rasheed sarcoma viral oncogene homolog [Source:HGNC Symbol;Acc:3697]                  \n",
       "  chromosome_name start_position end_position\n",
       "1 NA                     NA             NA   \n",
       "2 X                99839799       99854882   \n",
       "3 20               49551404       49575092   \n",
       "4 1               169818772      169863408   \n",
       "5 NA                     NA             NA   \n",
       "6 1                27938575       27961788   "
      ]
     },
     "metadata": {},
     "output_type": "display_data"
    },
    {
     "data": {
      "text/html": [
       "<style>\n",
       ".list-inline {list-style: none; margin:0; padding: 0}\n",
       ".list-inline>li {display: inline-block}\n",
       ".list-inline>li:not(:last-child)::after {content: \"\\00b7\"; padding: 0 .5ex}\n",
       "</style>\n",
       "<ol class=list-inline><li>57820</li><li>12</li></ol>\n"
      ],
      "text/latex": [
       "\\begin{enumerate*}\n",
       "\\item 57820\n",
       "\\item 12\n",
       "\\end{enumerate*}\n"
      ],
      "text/markdown": [
       "1. 57820\n",
       "2. 12\n",
       "\n",
       "\n"
      ],
      "text/plain": [
       "[1] 57820    12"
      ]
     },
     "metadata": {},
     "output_type": "display_data"
    }
   ],
   "source": [
    "# Merge with your original dataframe\n",
    "df_with_names <- merge(df, gene_info, \n",
    "                      by.x = \"Geneid\", \n",
    "                      by.y = \"ensembl_gene_id\", \n",
    "                      all.x = TRUE)\n",
    "\n",
    "# Check the first few rows\n",
    "head(df_with_names)\n",
    "\n",
    "# print dimension\n",
    "dim(df_with_names)"
   ]
  },
  {
   "cell_type": "code",
   "execution_count": 34,
   "metadata": {
    "vscode": {
     "languageId": "r"
    }
   },
   "outputs": [
    {
     "data": {
      "text/html": [
       "6063"
      ],
      "text/latex": [
       "6063"
      ],
      "text/markdown": [
       "6063"
      ],
      "text/plain": [
       "[1] 6063"
      ]
     },
     "metadata": {},
     "output_type": "display_data"
    }
   ],
   "source": [
    "# Check if any IDs didn't get mapped\n",
    "unmapped <- df$Geneid[!df$Geneid %in% gene_info$ensembl_gene_id]\n",
    "length(unmapped)"
   ]
  },
  {
   "cell_type": "code",
   "execution_count": 47,
   "metadata": {
    "vscode": {
     "languageId": "r"
    }
   },
   "outputs": [
    {
     "name": "stdout",
     "output_type": "stream",
     "text": [
      "[1] \"Original number of rows: 57820\"\n",
      "[1] \"Number of rows after filtering: 51757\"\n"
     ]
    },
    {
     "data": {
      "text/html": [
       "<table class=\"dataframe\">\n",
       "<caption>A data.frame: 6 x 7</caption>\n",
       "<thead>\n",
       "\t<tr><th></th><th scope=col>Geneid</th><th scope=col>X_filesTien_Cont1_S25sorted</th><th scope=col>X_filesTien_Cont2_S26sorted</th><th scope=col>X_filesTien_Cont3_S27sorted</th><th scope=col>X_filesTien_Zn1_S28sorted</th><th scope=col>X_filesTien_Zn2_S29sorted</th><th scope=col>X_filesTien_Zn3_S30sorted</th></tr>\n",
       "\t<tr><th></th><th scope=col>&lt;chr&gt;</th><th scope=col>&lt;int&gt;</th><th scope=col>&lt;int&gt;</th><th scope=col>&lt;int&gt;</th><th scope=col>&lt;int&gt;</th><th scope=col>&lt;int&gt;</th><th scope=col>&lt;int&gt;</th></tr>\n",
       "</thead>\n",
       "<tbody>\n",
       "\t<tr><th scope=row>2</th><td>TNMD </td><td> 71</td><td> 945</td><td>1295</td><td> 815</td><td> 729</td><td> 496</td></tr>\n",
       "\t<tr><th scope=row>3</th><td>DPM1 </td><td>185</td><td>2383</td><td>3464</td><td>3081</td><td>2884</td><td>2011</td></tr>\n",
       "\t<tr><th scope=row>4</th><td>SCYL3</td><td> 29</td><td> 576</td><td> 706</td><td> 623</td><td> 557</td><td> 351</td></tr>\n",
       "\t<tr><th scope=row>6</th><td>FGR  </td><td>  2</td><td>  22</td><td>  43</td><td>  37</td><td>  27</td><td>  22</td></tr>\n",
       "\t<tr><th scope=row>8</th><td>FUCA2</td><td>142</td><td>1528</td><td>2270</td><td>1692</td><td>1542</td><td>1078</td></tr>\n",
       "\t<tr><th scope=row>9</th><td>GCLC </td><td>165</td><td>2356</td><td>3340</td><td>2564</td><td>2264</td><td>1720</td></tr>\n",
       "</tbody>\n",
       "</table>\n"
      ],
      "text/latex": [
       "A data.frame: 6 x 7\n",
       "\\begin{tabular}{r|lllllll}\n",
       "  & Geneid & X\\_filesTien\\_Cont1\\_S25sorted & X\\_filesTien\\_Cont2\\_S26sorted & X\\_filesTien\\_Cont3\\_S27sorted & X\\_filesTien\\_Zn1\\_S28sorted & X\\_filesTien\\_Zn2\\_S29sorted & X\\_filesTien\\_Zn3\\_S30sorted\\\\\n",
       "  & <chr> & <int> & <int> & <int> & <int> & <int> & <int>\\\\\n",
       "\\hline\n",
       "\t2 & TNMD  &  71 &  945 & 1295 &  815 &  729 &  496\\\\\n",
       "\t3 & DPM1  & 185 & 2383 & 3464 & 3081 & 2884 & 2011\\\\\n",
       "\t4 & SCYL3 &  29 &  576 &  706 &  623 &  557 &  351\\\\\n",
       "\t6 & FGR   &   2 &   22 &   43 &   37 &   27 &   22\\\\\n",
       "\t8 & FUCA2 & 142 & 1528 & 2270 & 1692 & 1542 & 1078\\\\\n",
       "\t9 & GCLC  & 165 & 2356 & 3340 & 2564 & 2264 & 1720\\\\\n",
       "\\end{tabular}\n"
      ],
      "text/markdown": [
       "\n",
       "A data.frame: 6 x 7\n",
       "\n",
       "| <!--/--> | Geneid &lt;chr&gt; | X_filesTien_Cont1_S25sorted &lt;int&gt; | X_filesTien_Cont2_S26sorted &lt;int&gt; | X_filesTien_Cont3_S27sorted &lt;int&gt; | X_filesTien_Zn1_S28sorted &lt;int&gt; | X_filesTien_Zn2_S29sorted &lt;int&gt; | X_filesTien_Zn3_S30sorted &lt;int&gt; |\n",
       "|---|---|---|---|---|---|---|---|\n",
       "| 2 | TNMD  |  71 |  945 | 1295 |  815 |  729 |  496 |\n",
       "| 3 | DPM1  | 185 | 2383 | 3464 | 3081 | 2884 | 2011 |\n",
       "| 4 | SCYL3 |  29 |  576 |  706 |  623 |  557 |  351 |\n",
       "| 6 | FGR   |   2 |   22 |   43 |   37 |   27 |   22 |\n",
       "| 8 | FUCA2 | 142 | 1528 | 2270 | 1692 | 1542 | 1078 |\n",
       "| 9 | GCLC  | 165 | 2356 | 3340 | 2564 | 2264 | 1720 |\n",
       "\n"
      ],
      "text/plain": [
       "  Geneid X_filesTien_Cont1_S25sorted X_filesTien_Cont2_S26sorted\n",
       "2 TNMD    71                          945                       \n",
       "3 DPM1   185                         2383                       \n",
       "4 SCYL3   29                          576                       \n",
       "6 FGR      2                           22                       \n",
       "8 FUCA2  142                         1528                       \n",
       "9 GCLC   165                         2356                       \n",
       "  X_filesTien_Cont3_S27sorted X_filesTien_Zn1_S28sorted\n",
       "2 1295                         815                     \n",
       "3 3464                        3081                     \n",
       "4  706                         623                     \n",
       "6   43                          37                     \n",
       "8 2270                        1692                     \n",
       "9 3340                        2564                     \n",
       "  X_filesTien_Zn2_S29sorted X_filesTien_Zn3_S30sorted\n",
       "2  729                       496                     \n",
       "3 2884                      2011                     \n",
       "4  557                       351                     \n",
       "6   27                        22                     \n",
       "8 1542                      1078                     \n",
       "9 2264                      1720                     "
      ]
     },
     "metadata": {},
     "output_type": "display_data"
    }
   ],
   "source": [
    "# Remove rows with NA in external_gene_name\n",
    "df_counts <- df_with_names[!is.na(df_with_names$external_gene_name), ]\n",
    "\n",
    "# Drop 'gene' column if it exists\n",
    "if(\"Geneid\" %in% colnames(df_counts)) {\n",
    "    df_counts$Geneid <- NULL\n",
    "}\n",
    "\n",
    "# Rename external_gene_name to Geneid\n",
    "df_counts <- rename(df_counts, Geneid = external_gene_name)\n",
    "df_counts <- df_counts[, col_names]\n",
    "\n",
    "# Check the results\n",
    "print(paste(\"Original number of rows:\", nrow(df_with_names)))\n",
    "print(paste(\"Number of rows after filtering:\", nrow(df_counts)))\n",
    "head(df_counts)"
   ]
  },
  {
   "cell_type": "code",
   "execution_count": 48,
   "metadata": {
    "vscode": {
     "languageId": "r"
    }
   },
   "outputs": [],
   "source": [
    "# Write CSV without index (row names)\n",
    "write.csv(df_counts, \"data/gene_mapped_counts_raw.csv\", quote = FALSE)"
   ]
  },
  {
   "cell_type": "code",
   "execution_count": null,
   "metadata": {
    "vscode": {
     "languageId": "r"
    }
   },
   "outputs": [],
   "source": []
  },
  {
   "cell_type": "markdown",
   "metadata": {},
   "source": [
    "## Reload data"
   ]
  },
  {
   "cell_type": "code",
   "execution_count": 2,
   "metadata": {
    "vscode": {
     "languageId": "r"
    }
   },
   "outputs": [
    {
     "data": {
      "text/html": [
       "<style>\n",
       ".list-inline {list-style: none; margin:0; padding: 0}\n",
       ".list-inline>li {display: inline-block}\n",
       ".list-inline>li:not(:last-child)::after {content: \"\\00b7\"; padding: 0 .5ex}\n",
       "</style>\n",
       "<ol class=list-inline><li>49784</li><li>6</li></ol>\n"
      ],
      "text/latex": [
       "\\begin{enumerate*}\n",
       "\\item 49784\n",
       "\\item 6\n",
       "\\end{enumerate*}\n"
      ],
      "text/markdown": [
       "1. 49784\n",
       "2. 6\n",
       "\n",
       "\n"
      ],
      "text/plain": [
       "[1] 49784     6"
      ]
     },
     "metadata": {},
     "output_type": "display_data"
    },
    {
     "data": {
      "text/html": [
       "<table class=\"dataframe\">\n",
       "<caption>A data.frame: 6 x 6</caption>\n",
       "<thead>\n",
       "\t<tr><th></th><th scope=col>X_filesTien_Cont1_S25sorted</th><th scope=col>X_filesTien_Cont2_S26sorted</th><th scope=col>X_filesTien_Cont3_S27sorted</th><th scope=col>X_filesTien_Zn1_S28sorted</th><th scope=col>X_filesTien_Zn2_S29sorted</th><th scope=col>X_filesTien_Zn3_S30sorted</th></tr>\n",
       "\t<tr><th></th><th scope=col>&lt;int&gt;</th><th scope=col>&lt;int&gt;</th><th scope=col>&lt;int&gt;</th><th scope=col>&lt;int&gt;</th><th scope=col>&lt;int&gt;</th><th scope=col>&lt;int&gt;</th></tr>\n",
       "</thead>\n",
       "<tbody>\n",
       "\t<tr><th scope=row>5S_rRNA</th><td>0</td><td> 0</td><td> 0</td><td> 0</td><td> 0</td><td> 0</td></tr>\n",
       "\t<tr><th scope=row>7SK</th><td>0</td><td>11</td><td>18</td><td>10</td><td>17</td><td> 7</td></tr>\n",
       "\t<tr><th scope=row>A1BG</th><td>2</td><td>10</td><td>16</td><td> 4</td><td> 9</td><td> 5</td></tr>\n",
       "\t<tr><th scope=row>A1BG-AS1</th><td>7</td><td>24</td><td>46</td><td>59</td><td>30</td><td>20</td></tr>\n",
       "\t<tr><th scope=row>A2M-AS1</th><td>2</td><td>76</td><td>95</td><td>48</td><td>35</td><td>25</td></tr>\n",
       "\t<tr><th scope=row>A2ML1-AS1</th><td>2</td><td>37</td><td>30</td><td>28</td><td>26</td><td>17</td></tr>\n",
       "</tbody>\n",
       "</table>\n"
      ],
      "text/latex": [
       "A data.frame: 6 x 6\n",
       "\\begin{tabular}{r|llllll}\n",
       "  & X\\_filesTien\\_Cont1\\_S25sorted & X\\_filesTien\\_Cont2\\_S26sorted & X\\_filesTien\\_Cont3\\_S27sorted & X\\_filesTien\\_Zn1\\_S28sorted & X\\_filesTien\\_Zn2\\_S29sorted & X\\_filesTien\\_Zn3\\_S30sorted\\\\\n",
       "  & <int> & <int> & <int> & <int> & <int> & <int>\\\\\n",
       "\\hline\n",
       "\t5S\\_rRNA & 0 &  0 &  0 &  0 &  0 &  0\\\\\n",
       "\t7SK & 0 & 11 & 18 & 10 & 17 &  7\\\\\n",
       "\tA1BG & 2 & 10 & 16 &  4 &  9 &  5\\\\\n",
       "\tA1BG-AS1 & 7 & 24 & 46 & 59 & 30 & 20\\\\\n",
       "\tA2M-AS1 & 2 & 76 & 95 & 48 & 35 & 25\\\\\n",
       "\tA2ML1-AS1 & 2 & 37 & 30 & 28 & 26 & 17\\\\\n",
       "\\end{tabular}\n"
      ],
      "text/markdown": [
       "\n",
       "A data.frame: 6 x 6\n",
       "\n",
       "| <!--/--> | X_filesTien_Cont1_S25sorted &lt;int&gt; | X_filesTien_Cont2_S26sorted &lt;int&gt; | X_filesTien_Cont3_S27sorted &lt;int&gt; | X_filesTien_Zn1_S28sorted &lt;int&gt; | X_filesTien_Zn2_S29sorted &lt;int&gt; | X_filesTien_Zn3_S30sorted &lt;int&gt; |\n",
       "|---|---|---|---|---|---|---|\n",
       "| 5S_rRNA | 0 |  0 |  0 |  0 |  0 |  0 |\n",
       "| 7SK | 0 | 11 | 18 | 10 | 17 |  7 |\n",
       "| A1BG | 2 | 10 | 16 |  4 |  9 |  5 |\n",
       "| A1BG-AS1 | 7 | 24 | 46 | 59 | 30 | 20 |\n",
       "| A2M-AS1 | 2 | 76 | 95 | 48 | 35 | 25 |\n",
       "| A2ML1-AS1 | 2 | 37 | 30 | 28 | 26 | 17 |\n",
       "\n"
      ],
      "text/plain": [
       "          X_filesTien_Cont1_S25sorted X_filesTien_Cont2_S26sorted\n",
       "5S_rRNA   0                            0                         \n",
       "7SK       0                           11                         \n",
       "A1BG      2                           10                         \n",
       "A1BG-AS1  7                           24                         \n",
       "A2M-AS1   2                           76                         \n",
       "A2ML1-AS1 2                           37                         \n",
       "          X_filesTien_Cont3_S27sorted X_filesTien_Zn1_S28sorted\n",
       "5S_rRNA    0                           0                       \n",
       "7SK       18                          10                       \n",
       "A1BG      16                           4                       \n",
       "A1BG-AS1  46                          59                       \n",
       "A2M-AS1   95                          48                       \n",
       "A2ML1-AS1 30                          28                       \n",
       "          X_filesTien_Zn2_S29sorted X_filesTien_Zn3_S30sorted\n",
       "5S_rRNA    0                         0                       \n",
       "7SK       17                         7                       \n",
       "A1BG       9                         5                       \n",
       "A1BG-AS1  30                        20                       \n",
       "A2M-AS1   35                        25                       \n",
       "A2ML1-AS1 26                        17                       "
      ]
     },
     "metadata": {},
     "output_type": "display_data"
    }
   ],
   "source": [
    "# Input read_count file\n",
    "df_counts <- read.delim(\"data/gene_mapped_counts_raw.tsv\", row.names = 1, sep = \"\\t\")\n",
    "dim(df_counts)\n",
    "head(df_counts)"
   ]
  },
  {
   "cell_type": "code",
   "execution_count": 3,
   "metadata": {
    "vscode": {
     "languageId": "r"
    }
   },
   "outputs": [
    {
     "name": "stdout",
     "output_type": "stream",
     "text": [
      "Number of genes before filtering:  49784 \n"
     ]
    },
    {
     "name": "stdout",
     "output_type": "stream",
     "text": [
      "Number of genes after filtering:  14430 \n",
      "Percentage of genes removed:  71.01478 %\n"
     ]
    }
   ],
   "source": [
    "# Gene-level Filtering\n",
    "# Filter genes with low read count less than 50\n",
    "num_gene_before <- nrow(df_counts)\n",
    "df_counts <- df_counts[rowSums(df_counts[, !colnames(df_counts) %in% \"Geneid\"]) > 50, ]\n",
    "num_gene_after <- nrow(df_counts)\n",
    "\n",
    "cat(\"Number of genes before filtering: \", num_gene_before, \"\\n\")\n",
    "cat(\"Number of genes after filtering: \", num_gene_after, \"\\n\")\n",
    "\n",
    "pct_gene_removed <- (num_gene_before - num_gene_after) / num_gene_before * 100\n",
    "cat(\"Percentage of genes removed: \", pct_gene_removed, \"%\\n\")"
   ]
  },
  {
   "cell_type": "code",
   "execution_count": null,
   "metadata": {
    "vscode": {
     "languageId": "r"
    }
   },
   "outputs": [],
   "source": []
  },
  {
   "cell_type": "markdown",
   "metadata": {},
   "source": [
    "## Create the DESeq2 object"
   ]
  },
  {
   "cell_type": "markdown",
   "metadata": {},
   "source": [
    "Set condition for DESeq2 (label group for each sample)\n",
    "- WT_C: Wild Type Control group\n",
    "- WT_E: Wild Type Edelfosine-treated group\n",
    "\n",
    "This is a common experimental setup in yeast studies where:\n",
    "- Control group (C): Normal growth conditions\n",
    "- Edelfosine group (E): Yeast cells treated with ethanol to study stress response\n",
    "\n",
    "This is the first step in the DESeq2 workflow, preparing the data for:\n",
    "- Normalization\n",
    "- Dispersion estimation\n",
    "- Differential expression testing"
   ]
  },
  {
   "cell_type": "code",
   "execution_count": 6,
   "metadata": {
    "vscode": {
     "languageId": "r"
    }
   },
   "outputs": [
    {
     "data": {
      "text/html": [
       "<table class=\"dataframe\">\n",
       "<caption>A data.frame: 6 x 1</caption>\n",
       "<thead>\n",
       "\t<tr><th></th><th scope=col>condition</th></tr>\n",
       "\t<tr><th></th><th scope=col>&lt;fct&gt;</th></tr>\n",
       "</thead>\n",
       "<tbody>\n",
       "\t<tr><th scope=row>X_filesTien_Cont1_S25sorted</th><td>C</td></tr>\n",
       "\t<tr><th scope=row>X_filesTien_Cont2_S26sorted</th><td>C</td></tr>\n",
       "\t<tr><th scope=row>X_filesTien_Cont3_S27sorted</th><td>C</td></tr>\n",
       "\t<tr><th scope=row>X_filesTien_Zn1_S28sorted</th><td>E</td></tr>\n",
       "\t<tr><th scope=row>X_filesTien_Zn2_S29sorted</th><td>E</td></tr>\n",
       "\t<tr><th scope=row>X_filesTien_Zn3_S30sorted</th><td>E</td></tr>\n",
       "</tbody>\n",
       "</table>\n"
      ],
      "text/latex": [
       "A data.frame: 6 x 1\n",
       "\\begin{tabular}{r|l}\n",
       "  & condition\\\\\n",
       "  & <fct>\\\\\n",
       "\\hline\n",
       "\tX\\_filesTien\\_Cont1\\_S25sorted & C\\\\\n",
       "\tX\\_filesTien\\_Cont2\\_S26sorted & C\\\\\n",
       "\tX\\_filesTien\\_Cont3\\_S27sorted & C\\\\\n",
       "\tX\\_filesTien\\_Zn1\\_S28sorted & E\\\\\n",
       "\tX\\_filesTien\\_Zn2\\_S29sorted & E\\\\\n",
       "\tX\\_filesTien\\_Zn3\\_S30sorted & E\\\\\n",
       "\\end{tabular}\n"
      ],
      "text/markdown": [
       "\n",
       "A data.frame: 6 x 1\n",
       "\n",
       "| <!--/--> | condition &lt;fct&gt; |\n",
       "|---|---|\n",
       "| X_filesTien_Cont1_S25sorted | C |\n",
       "| X_filesTien_Cont2_S26sorted | C |\n",
       "| X_filesTien_Cont3_S27sorted | C |\n",
       "| X_filesTien_Zn1_S28sorted | E |\n",
       "| X_filesTien_Zn2_S29sorted | E |\n",
       "| X_filesTien_Zn3_S30sorted | E |\n",
       "\n"
      ],
      "text/plain": [
       "                            condition\n",
       "X_filesTien_Cont1_S25sorted C        \n",
       "X_filesTien_Cont2_S26sorted C        \n",
       "X_filesTien_Cont3_S27sorted C        \n",
       "X_filesTien_Zn1_S28sorted   E        \n",
       "X_filesTien_Zn2_S29sorted   E        \n",
       "X_filesTien_Zn3_S30sorted   E        "
      ]
     },
     "metadata": {},
     "output_type": "display_data"
    }
   ],
   "source": [
    "condition <- factor(c(\"C\", \"C\", \"C\", \"E\", \"E\", \"E\"))\n",
    "col_name <- data.frame(row.names = colnames(df_counts), condition)\n",
    "col_name"
   ]
  },
  {
   "cell_type": "markdown",
   "metadata": {},
   "source": [
    "- `round()` is used because DESeq2 requires integer counts\n",
    "- `colData = col_name` Contains sample information/metadata\n",
    "- `~condition` indicates comparison between conditions (control vs ethanol)"
   ]
  },
  {
   "cell_type": "code",
   "execution_count": 7,
   "metadata": {
    "vscode": {
     "languageId": "r"
    }
   },
   "outputs": [
    {
     "name": "stderr",
     "output_type": "stream",
     "text": [
      "converting counts to integer mode\n",
      "\n"
     ]
    },
    {
     "data": {
      "text/plain": [
       "class: DESeqDataSet \n",
       "dim: 14430 6 \n",
       "metadata(1): version\n",
       "assays(1): counts\n",
       "rownames(14430): 7SK A1BG-AS1 ... hsa-mir-8072 snoU2_19\n",
       "rowData names(0):\n",
       "colnames(6): X_filesTien_Cont1_S25sorted X_filesTien_Cont2_S26sorted\n",
       "  ... X_filesTien_Zn2_S29sorted X_filesTien_Zn3_S30sorted\n",
       "colData names(1): condition"
      ]
     },
     "metadata": {},
     "output_type": "display_data"
    }
   ],
   "source": [
    "dds <- DESeqDataSetFromMatrix(\n",
    "  countData = round(df_counts),\n",
    "  colData = col_name,\n",
    "  design = ~condition\n",
    ")\n",
    "dds"
   ]
  },
  {
   "cell_type": "markdown",
   "metadata": {},
   "source": [
    "1. DESeq2 first normalizes the count data to account for differences in library sizes and RNA composition between samples.\n",
    "2. We will use the normalized counts to make some plots for QC at the gene and sample level.\n",
    "3. The final step is to use the appropriate functions from the DESeq2 package to perform the differential expression analysis."
   ]
  },
  {
   "cell_type": "code",
   "execution_count": null,
   "metadata": {
    "vscode": {
     "languageId": "r"
    }
   },
   "outputs": [],
   "source": []
  },
  {
   "cell_type": "markdown",
   "metadata": {},
   "source": [
    "# Explore data"
   ]
  },
  {
   "cell_type": "markdown",
   "metadata": {},
   "source": [
    "## PCA\n",
    "\n",
    "Principal Component Analysis (PCA) is a dimensionality reduction technique used to emphasize variation and bring out strong patterns in a dataset."
   ]
  },
  {
   "cell_type": "code",
   "execution_count": 8,
   "metadata": {
    "vscode": {
     "languageId": "r"
    }
   },
   "outputs": [
    {
     "data": {
      "text/plain": [
       "class: DESeqTransform \n",
       "dim: 14430 6 \n",
       "metadata(1): version\n",
       "assays(1): ''\n",
       "rownames(14430): 7SK A1BG-AS1 ... hsa-mir-8072 snoU2_19\n",
       "rowData names(7): baseMean baseVar ... dispFit rlogIntercept\n",
       "colnames(6): X_filesTien_Cont1_S25sorted X_filesTien_Cont2_S26sorted\n",
       "  ... X_filesTien_Zn2_S29sorted X_filesTien_Zn3_S30sorted\n",
       "colData names(2): condition sizeFactor"
      ]
     },
     "metadata": {},
     "output_type": "display_data"
    }
   ],
   "source": [
    "# Transform counts for data visualization\n",
    "rld <- rlog(dds, blind = TRUE)\n",
    "rld"
   ]
  },
  {
   "cell_type": "code",
   "execution_count": null,
   "metadata": {
    "vscode": {
     "languageId": "r"
    }
   },
   "outputs": [],
   "source": []
  },
  {
   "cell_type": "markdown",
   "metadata": {},
   "source": [
    "### 1. **Axes and Variance**\n",
    "- **PC1 (x-axis)**: The first principal component, which explains the majority of the variance in the data (84% as indicated in the label). This axis differentiates the samples based on the largest source of variation.\n",
    "- **PC2 (y-axis)**: The second principal component, explaining a smaller proportion of the variance (10%). This axis captures variation orthogonal to PC1.\n",
    "\n",
    "Together, PC1 and PC2 explain 94% of the total variance in the data.\n",
    "\n",
    "---\n",
    "\n",
    "### 2. **Groups**\n",
    "- The samples are grouped by a categorical variable, likely the \"condition\" or treatment group.\n",
    "  - **Red dots labeled \"C\"**: Represent samples in group \"C.\"\n",
    "  - **Blue dots labeled \"E\"**: Represent samples in group \"E.\"\n",
    "- The colors and labels make it easier to identify which samples belong to which group.\n",
    "\n",
    "---\n",
    "\n",
    "### 3. **Interpretation**\n",
    "- **Clustering of samples**:\n",
    "  - The \"C\" group samples (red) cluster closely together on the left, indicating similarity within this group.\n",
    "  - The \"E\" group samples (blue) cluster on the right, separate from group \"C,\" suggesting a significant difference between the two groups.\n",
    "  \n",
    "- **Separation between groups**:\n",
    "  - The large separation along the x-axis (PC1) suggests that the primary variance in the data corresponds to the difference between groups \"C\" and \"E.\" \n",
    "  - This separation might reflect biological or experimental differences, such as different treatments, conditions, or phenotypes.\n",
    "\n",
    "---\n",
    "\n",
    "### 4. **Annotations**\n",
    "- Each sample is labeled with its group (\"C\" or \"E\"), providing clarity and making it easier to track individual points in the PCA space.\n",
    "- The absence of overlapping points between groups further supports clear separation.\n",
    "\n",
    "---\n",
    "\n",
    "### 5. **Key Takeaways**\n",
    "- The groups \"C\" and \"E\" are well-separated, which could indicate:\n",
    "  - The treatment effect or biological condition is strongly influencing the data.\n",
    "  - The PCA is successfully capturing meaningful variation in the dataset.\n",
    "- Further investigation might involve checking which genes or features contribute most to PC1 and PC2 to understand the biological factors driving the separation."
   ]
  },
  {
   "cell_type": "markdown",
   "metadata": {},
   "source": [
    "- `rld:` represents the regularized log-transformed data, generated from the DESeq2 pipeline (e.g., rlog() function). PCA is typically performed on transformed RNA-Seq data to reduce variance caused by sequencing depth.\n",
    "- `ntop = 500:` Selects the top 500 most variable genes for PCA. This ensures that PCA focuses on genes contributing most to the variance.\n",
    "- `intgroup = \"condition\"`: Groups the samples by a metadata variable named \"condition\". This variable should correspond to experimental groups (e.g., control vs treated).\n",
    "- `geom_text(aes(label = condition)):` Adds sample labels (condition) to the PCA plot.\n",
    "- `label = condition` ensures that each sample's condition is displayed as text.\n",
    "- `position = nudge:` Slightly shifts the labels on the y-axis for better readability.\n",
    "- `size = 3:` Sets the font size of the labels.\n",
    "- `theme_bw():` Applies a clean \"black-and-white\" theme to the plot, removing gray backgrounds and unnecessary gridlines for better readability."
   ]
  },
  {
   "cell_type": "code",
   "execution_count": 9,
   "metadata": {
    "vscode": {
     "languageId": "r"
    }
   },
   "outputs": [
    {
     "name": "stderr",
     "output_type": "stream",
     "text": [
      "using ntop=500 top features by variance\n",
      "\n"
     ]
    },
    {
     "data": {
      "image/png": "[encoded data removed]",
      "text/plain": [
       "plot without title"
      ]
     },
     "metadata": {
      "image/png": {
       "height": 420,
       "width": 420
      }
     },
     "output_type": "display_data"
    }
   ],
   "source": [
    "# Plot PCA\n",
    "p <- DESeq2::plotPCA(rld, ntop = 500, intgroup = \"condition\")\n",
    "nudge <- position_nudge(y = 1)\n",
    "p_new <- p + geom_text(aes(label = condition), position = nudge, size = 3)\n",
    "p_new <- p_new + theme_bw()\n",
    "p_new"
   ]
  },
  {
   "cell_type": "markdown",
   "metadata": {},
   "source": [
    "Comments:\n",
    "- The groups \"C\" and \"E\" are well-separated, which could indicate:\n",
    "- The treatment effect or biological condition is strongly influencing the data.\n",
    "- The PCA is successfully capturing meaningful variation in the dataset.\n",
    "- Further investigation might involve checking which genes or features contribute most to PC1 and PC2 to understand the biological factors driving the separation."
   ]
  },
  {
   "cell_type": "code",
   "execution_count": null,
   "metadata": {
    "vscode": {
     "languageId": "r"
    }
   },
   "outputs": [],
   "source": []
  },
  {
   "cell_type": "markdown",
   "metadata": {},
   "source": [
    "## Hierrachical Clustering Method\n",
    "\n",
    "Since the majority of genes are not differentially expressed, samples generally have high correlations with each other (values higher than 0.80). \n",
    "Samples below 0.80 may indicate an outlier in your data and/or some sample contamination."
   ]
  },
  {
   "cell_type": "code",
   "execution_count": 10,
   "metadata": {
    "vscode": {
     "languageId": "r"
    }
   },
   "outputs": [
    {
     "data": {
      "text/html": [
       "<table class=\"dataframe\">\n",
       "<caption>A matrix: 6 x 6 of type dbl</caption>\n",
       "<thead>\n",
       "\t<tr><th></th><th scope=col>X_filesTien_Cont1_S25sorted</th><th scope=col>X_filesTien_Cont2_S26sorted</th><th scope=col>X_filesTien_Cont3_S27sorted</th><th scope=col>X_filesTien_Zn1_S28sorted</th><th scope=col>X_filesTien_Zn2_S29sorted</th><th scope=col>X_filesTien_Zn3_S30sorted</th></tr>\n",
       "</thead>\n",
       "<tbody>\n",
       "\t<tr><th scope=row>7SK</th><td>2.855664</td><td>2.872095</td><td>2.880119</td><td>2.861006</td><td>2.893169</td><td>2.866568</td></tr>\n",
       "\t<tr><th scope=row>A1BG-AS1</th><td>4.686222</td><td>4.544367</td><td>4.586583</td><td>4.664588</td><td>4.565969</td><td>4.563715</td></tr>\n",
       "\t<tr><th scope=row>A2M-AS1</th><td>4.995439</td><td>5.127592</td><td>5.101964</td><td>4.994356</td><td>4.965982</td><td>4.973740</td></tr>\n",
       "\t<tr><th scope=row>A2ML1-AS1</th><td>4.129727</td><td>4.175544</td><td>4.108406</td><td>4.118131</td><td>4.123503</td><td>4.118218</td></tr>\n",
       "\t<tr><th scope=row>A2ML1-AS2</th><td>3.208127</td><td>3.159729</td><td>3.160165</td><td>3.129485</td><td>3.140582</td><td>3.202441</td></tr>\n",
       "\t<tr><th scope=row>A2MP1</th><td>3.791593</td><td>3.762325</td><td>3.794266</td><td>3.777426</td><td>3.740261</td><td>3.829113</td></tr>\n",
       "</tbody>\n",
       "</table>\n"
      ],
      "text/latex": [
       "A matrix: 6 x 6 of type dbl\n",
       "\\begin{tabular}{r|llllll}\n",
       "  & X\\_filesTien\\_Cont1\\_S25sorted & X\\_filesTien\\_Cont2\\_S26sorted & X\\_filesTien\\_Cont3\\_S27sorted & X\\_filesTien\\_Zn1\\_S28sorted & X\\_filesTien\\_Zn2\\_S29sorted & X\\_filesTien\\_Zn3\\_S30sorted\\\\\n",
       "\\hline\n",
       "\t7SK & 2.855664 & 2.872095 & 2.880119 & 2.861006 & 2.893169 & 2.866568\\\\\n",
       "\tA1BG-AS1 & 4.686222 & 4.544367 & 4.586583 & 4.664588 & 4.565969 & 4.563715\\\\\n",
       "\tA2M-AS1 & 4.995439 & 5.127592 & 5.101964 & 4.994356 & 4.965982 & 4.973740\\\\\n",
       "\tA2ML1-AS1 & 4.129727 & 4.175544 & 4.108406 & 4.118131 & 4.123503 & 4.118218\\\\\n",
       "\tA2ML1-AS2 & 3.208127 & 3.159729 & 3.160165 & 3.129485 & 3.140582 & 3.202441\\\\\n",
       "\tA2MP1 & 3.791593 & 3.762325 & 3.794266 & 3.777426 & 3.740261 & 3.829113\\\\\n",
       "\\end{tabular}\n"
      ],
      "text/markdown": [
       "\n",
       "A matrix: 6 x 6 of type dbl\n",
       "\n",
       "| <!--/--> | X_filesTien_Cont1_S25sorted | X_filesTien_Cont2_S26sorted | X_filesTien_Cont3_S27sorted | X_filesTien_Zn1_S28sorted | X_filesTien_Zn2_S29sorted | X_filesTien_Zn3_S30sorted |\n",
       "|---|---|---|---|---|---|---|\n",
       "| 7SK | 2.855664 | 2.872095 | 2.880119 | 2.861006 | 2.893169 | 2.866568 |\n",
       "| A1BG-AS1 | 4.686222 | 4.544367 | 4.586583 | 4.664588 | 4.565969 | 4.563715 |\n",
       "| A2M-AS1 | 4.995439 | 5.127592 | 5.101964 | 4.994356 | 4.965982 | 4.973740 |\n",
       "| A2ML1-AS1 | 4.129727 | 4.175544 | 4.108406 | 4.118131 | 4.123503 | 4.118218 |\n",
       "| A2ML1-AS2 | 3.208127 | 3.159729 | 3.160165 | 3.129485 | 3.140582 | 3.202441 |\n",
       "| A2MP1 | 3.791593 | 3.762325 | 3.794266 | 3.777426 | 3.740261 | 3.829113 |\n",
       "\n"
      ],
      "text/plain": [
       "          X_filesTien_Cont1_S25sorted X_filesTien_Cont2_S26sorted\n",
       "7SK       2.855664                    2.872095                   \n",
       "A1BG-AS1  4.686222                    4.544367                   \n",
       "A2M-AS1   4.995439                    5.127592                   \n",
       "A2ML1-AS1 4.129727                    4.175544                   \n",
       "A2ML1-AS2 3.208127                    3.159729                   \n",
       "A2MP1     3.791593                    3.762325                   \n",
       "          X_filesTien_Cont3_S27sorted X_filesTien_Zn1_S28sorted\n",
       "7SK       2.880119                    2.861006                 \n",
       "A1BG-AS1  4.586583                    4.664588                 \n",
       "A2M-AS1   5.101964                    4.994356                 \n",
       "A2ML1-AS1 4.108406                    4.118131                 \n",
       "A2ML1-AS2 3.160165                    3.129485                 \n",
       "A2MP1     3.794266                    3.777426                 \n",
       "          X_filesTien_Zn2_S29sorted X_filesTien_Zn3_S30sorted\n",
       "7SK       2.893169                  2.866568                 \n",
       "A1BG-AS1  4.565969                  4.563715                 \n",
       "A2M-AS1   4.965982                  4.973740                 \n",
       "A2ML1-AS1 4.123503                  4.118218                 \n",
       "A2ML1-AS2 3.140582                  3.202441                 \n",
       "A2MP1     3.740261                  3.829113                 "
      ]
     },
     "metadata": {},
     "output_type": "display_data"
    }
   ],
   "source": [
    "rld_mat <- assay(rld)\n",
    "head(rld_mat)"
   ]
  },
  {
   "cell_type": "code",
   "execution_count": 11,
   "metadata": {
    "vscode": {
     "languageId": "r"
    }
   },
   "outputs": [
    {
     "data": {
      "text/html": [
       "<table class=\"dataframe\">\n",
       "<caption>A matrix: 6 x 6 of type dbl</caption>\n",
       "<thead>\n",
       "\t<tr><th></th><th scope=col>X_filesTien_Cont1_S25sorted</th><th scope=col>X_filesTien_Cont2_S26sorted</th><th scope=col>X_filesTien_Cont3_S27sorted</th><th scope=col>X_filesTien_Zn1_S28sorted</th><th scope=col>X_filesTien_Zn2_S29sorted</th><th scope=col>X_filesTien_Zn3_S30sorted</th></tr>\n",
       "</thead>\n",
       "<tbody>\n",
       "\t<tr><th scope=row>X_filesTien_Cont1_S25sorted</th><td>1.0000000</td><td>0.9993502</td><td>0.9993583</td><td>0.9989359</td><td>0.9988826</td><td>0.9988423</td></tr>\n",
       "\t<tr><th scope=row>X_filesTien_Cont2_S26sorted</th><td>0.9993502</td><td>1.0000000</td><td>0.9996317</td><td>0.9989228</td><td>0.9988905</td><td>0.9988361</td></tr>\n",
       "\t<tr><th scope=row>X_filesTien_Cont3_S27sorted</th><td>0.9993583</td><td>0.9996317</td><td>1.0000000</td><td>0.9989339</td><td>0.9988671</td><td>0.9988616</td></tr>\n",
       "\t<tr><th scope=row>X_filesTien_Zn1_S28sorted</th><td>0.9989359</td><td>0.9989228</td><td>0.9989339</td><td>1.0000000</td><td>0.9996516</td><td>0.9996102</td></tr>\n",
       "\t<tr><th scope=row>X_filesTien_Zn2_S29sorted</th><td>0.9988826</td><td>0.9988905</td><td>0.9988671</td><td>0.9996516</td><td>1.0000000</td><td>0.9995962</td></tr>\n",
       "\t<tr><th scope=row>X_filesTien_Zn3_S30sorted</th><td>0.9988423</td><td>0.9988361</td><td>0.9988616</td><td>0.9996102</td><td>0.9995962</td><td>1.0000000</td></tr>\n",
       "</tbody>\n",
       "</table>\n"
      ],
      "text/latex": [
       "A matrix: 6 x 6 of type dbl\n",
       "\\begin{tabular}{r|llllll}\n",
       "  & X\\_filesTien\\_Cont1\\_S25sorted & X\\_filesTien\\_Cont2\\_S26sorted & X\\_filesTien\\_Cont3\\_S27sorted & X\\_filesTien\\_Zn1\\_S28sorted & X\\_filesTien\\_Zn2\\_S29sorted & X\\_filesTien\\_Zn3\\_S30sorted\\\\\n",
       "\\hline\n",
       "\tX\\_filesTien\\_Cont1\\_S25sorted & 1.0000000 & 0.9993502 & 0.9993583 & 0.9989359 & 0.9988826 & 0.9988423\\\\\n",
       "\tX\\_filesTien\\_Cont2\\_S26sorted & 0.9993502 & 1.0000000 & 0.9996317 & 0.9989228 & 0.9988905 & 0.9988361\\\\\n",
       "\tX\\_filesTien\\_Cont3\\_S27sorted & 0.9993583 & 0.9996317 & 1.0000000 & 0.9989339 & 0.9988671 & 0.9988616\\\\\n",
       "\tX\\_filesTien\\_Zn1\\_S28sorted & 0.9989359 & 0.9989228 & 0.9989339 & 1.0000000 & 0.9996516 & 0.9996102\\\\\n",
       "\tX\\_filesTien\\_Zn2\\_S29sorted & 0.9988826 & 0.9988905 & 0.9988671 & 0.9996516 & 1.0000000 & 0.9995962\\\\\n",
       "\tX\\_filesTien\\_Zn3\\_S30sorted & 0.9988423 & 0.9988361 & 0.9988616 & 0.9996102 & 0.9995962 & 1.0000000\\\\\n",
       "\\end{tabular}\n"
      ],
      "text/markdown": [
       "\n",
       "A matrix: 6 x 6 of type dbl\n",
       "\n",
       "| <!--/--> | X_filesTien_Cont1_S25sorted | X_filesTien_Cont2_S26sorted | X_filesTien_Cont3_S27sorted | X_filesTien_Zn1_S28sorted | X_filesTien_Zn2_S29sorted | X_filesTien_Zn3_S30sorted |\n",
       "|---|---|---|---|---|---|---|\n",
       "| X_filesTien_Cont1_S25sorted | 1.0000000 | 0.9993502 | 0.9993583 | 0.9989359 | 0.9988826 | 0.9988423 |\n",
       "| X_filesTien_Cont2_S26sorted | 0.9993502 | 1.0000000 | 0.9996317 | 0.9989228 | 0.9988905 | 0.9988361 |\n",
       "| X_filesTien_Cont3_S27sorted | 0.9993583 | 0.9996317 | 1.0000000 | 0.9989339 | 0.9988671 | 0.9988616 |\n",
       "| X_filesTien_Zn1_S28sorted | 0.9989359 | 0.9989228 | 0.9989339 | 1.0000000 | 0.9996516 | 0.9996102 |\n",
       "| X_filesTien_Zn2_S29sorted | 0.9988826 | 0.9988905 | 0.9988671 | 0.9996516 | 1.0000000 | 0.9995962 |\n",
       "| X_filesTien_Zn3_S30sorted | 0.9988423 | 0.9988361 | 0.9988616 | 0.9996102 | 0.9995962 | 1.0000000 |\n",
       "\n"
      ],
      "text/plain": [
       "                            X_filesTien_Cont1_S25sorted\n",
       "X_filesTien_Cont1_S25sorted 1.0000000                  \n",
       "X_filesTien_Cont2_S26sorted 0.9993502                  \n",
       "X_filesTien_Cont3_S27sorted 0.9993583                  \n",
       "X_filesTien_Zn1_S28sorted   0.9989359                  \n",
       "X_filesTien_Zn2_S29sorted   0.9988826                  \n",
       "X_filesTien_Zn3_S30sorted   0.9988423                  \n",
       "                            X_filesTien_Cont2_S26sorted\n",
       "X_filesTien_Cont1_S25sorted 0.9993502                  \n",
       "X_filesTien_Cont2_S26sorted 1.0000000                  \n",
       "X_filesTien_Cont3_S27sorted 0.9996317                  \n",
       "X_filesTien_Zn1_S28sorted   0.9989228                  \n",
       "X_filesTien_Zn2_S29sorted   0.9988905                  \n",
       "X_filesTien_Zn3_S30sorted   0.9988361                  \n",
       "                            X_filesTien_Cont3_S27sorted\n",
       "X_filesTien_Cont1_S25sorted 0.9993583                  \n",
       "X_filesTien_Cont2_S26sorted 0.9996317                  \n",
       "X_filesTien_Cont3_S27sorted 1.0000000                  \n",
       "X_filesTien_Zn1_S28sorted   0.9989339                  \n",
       "X_filesTien_Zn2_S29sorted   0.9988671                  \n",
       "X_filesTien_Zn3_S30sorted   0.9988616                  \n",
       "                            X_filesTien_Zn1_S28sorted X_filesTien_Zn2_S29sorted\n",
       "X_filesTien_Cont1_S25sorted 0.9989359                 0.9988826                \n",
       "X_filesTien_Cont2_S26sorted 0.9989228                 0.9988905                \n",
       "X_filesTien_Cont3_S27sorted 0.9989339                 0.9988671                \n",
       "X_filesTien_Zn1_S28sorted   1.0000000                 0.9996516                \n",
       "X_filesTien_Zn2_S29sorted   0.9996516                 1.0000000                \n",
       "X_filesTien_Zn3_S30sorted   0.9996102                 0.9995962                \n",
       "                            X_filesTien_Zn3_S30sorted\n",
       "X_filesTien_Cont1_S25sorted 0.9988423                \n",
       "X_filesTien_Cont2_S26sorted 0.9988361                \n",
       "X_filesTien_Cont3_S27sorted 0.9988616                \n",
       "X_filesTien_Zn1_S28sorted   0.9996102                \n",
       "X_filesTien_Zn2_S29sorted   0.9995962                \n",
       "X_filesTien_Zn3_S30sorted   1.0000000                "
      ]
     },
     "metadata": {},
     "output_type": "display_data"
    }
   ],
   "source": [
    "rld_cor <- cor(rld_mat)\n",
    "rld_cor"
   ]
  },
  {
   "cell_type": "code",
   "execution_count": null,
   "metadata": {
    "vscode": {
     "languageId": "r"
    }
   },
   "outputs": [],
   "source": []
  },
  {
   "cell_type": "markdown",
   "metadata": {},
   "source": [
    "### 1. **Rows and Columns**\n",
    "- **Rows**: Represent the individual samples, such as `WT_C_3`, `WT_C_1`, etc.\n",
    "- **Columns**: Also represent the same samples. This symmetry indicates that the heatmap visualizes pairwise comparisons between the samples.\n",
    "- Both rows and columns are clustered hierarchically to group similar samples together.\n",
    "\n",
    "---\n",
    "\n",
    "### 2. **Dendrograms**\n",
    "- The dendrograms on the top and left of the heatmap show hierarchical clustering of the samples.\n",
    "  - Samples with shorter branches are more similar to each other.\n",
    "  - For example, `WT_C_3`, `WT_C_1`, and `WT_C_2` cluster closely, indicating strong similarity within this group.\n",
    "  - Similarly, `WT_E_1`, `WT_E_2`, and `WT_E_3` form a separate cluster, suggesting distinct differences between group \"C\" and group \"E.\"\n",
    "\n",
    "---\n",
    "\n",
    "### 3. **Heatmap Color Gradient**\n",
    "- The color scale on the right indicates the similarity or distance between samples:\n",
    "  - **Red (close to 1)**: Indicates high similarity between samples.\n",
    "  - **Blue (closer to 0.94)**: Indicates lower similarity.\n",
    "- For example, samples from the same condition (`C` or `E`) have higher similarity (red regions along the diagonal for respective clusters).\n",
    "- Cross-group comparisons (e.g., `WT_C_*` vs. `WT_E_*`) show lower similarity (blue regions), indicating distinct differences between the conditions.\n",
    "\n",
    "---\n",
    "\n",
    "### 4. **Conditions**\n",
    "- The top annotation bar shows the conditions (`C` in red, `E` in blue).\n",
    "- The conditions correlate well with the clustering:\n",
    "  - All `C` samples cluster together, and all `E` samples form another cluster.\n",
    "\n",
    "---\n",
    "\n",
    "### 5. **Interpretation**\n",
    "- **Intra-group similarity**: Samples within the same condition (`C` or `E`) are highly similar to each other, as indicated by the clustering and red blocks.\n",
    "- **Inter-group differences**: There is a clear distinction between the `C` and `E` groups, as indicated by the blue blocks in off-diagonal regions.\n",
    "- This suggests that the experimental condition (e.g., treatment vs. control) significantly influences the sample profiles.\n",
    "\n",
    "---\n",
    "\n",
    "### 6. **Use Case**\n",
    "- This heatmap could represent sample distances or correlations derived from gene expression data, demonstrating how experimental conditions (`C` and `E`) influence expression patterns.\n",
    "- The results validate that the conditions have distinct profiles, suitable for further downstream analysis."
   ]
  },
  {
   "cell_type": "code",
   "execution_count": 12,
   "metadata": {
    "vscode": {
     "languageId": "r"
    }
   },
   "outputs": [
    {
     "data": {
      "image/png": "[encoded data removed]",
      "text/plain": [
       "plot without title"
      ]
     },
     "metadata": {
      "image/png": {
       "height": 420,
       "width": 420
      }
     },
     "output_type": "display_data"
    }
   ],
   "source": [
    "# Plot heatmap\n",
    "pheatmap(rld_cor, annotation = col_name[, c(\"condition\"), drop = FALSE])"
   ]
  },
  {
   "cell_type": "markdown",
   "metadata": {},
   "source": [
    "Comments:\n",
    "- This heatmap could represent sample distances or correlations derived from gene expression data, demonstrating how experimental conditions (C and E) influence expression patterns.\n",
    "- The results validate that the conditions have distinct profiles, suitable for further downstream analysis."
   ]
  },
  {
   "cell_type": "code",
   "execution_count": null,
   "metadata": {
    "vscode": {
     "languageId": "r"
    }
   },
   "outputs": [],
   "source": []
  },
  {
   "cell_type": "markdown",
   "metadata": {},
   "source": [
    "# Running DESeq2\n",
    "\n",
    "- DESeq2 will model the raw counts, using normalization factors **(size factors)** to account for differences in library depth\n",
    "- Then, it will estimate the **gene-wise dispersions** and shrink these estimates to generate more accurate estimates of dispersion to model the counts.\n",
    "- Finally, DESeq2 will fit the **negative binomial model** and perform **hypothesis testing** using the Wald test or Likelihood Ratio test."
   ]
  },
  {
   "cell_type": "code",
   "execution_count": 13,
   "metadata": {
    "vscode": {
     "languageId": "r"
    }
   },
   "outputs": [
    {
     "name": "stderr",
     "output_type": "stream",
     "text": [
      "estimating size factors\n",
      "\n",
      "estimating dispersions\n",
      "\n",
      "gene-wise dispersion estimates\n",
      "\n",
      "mean-dispersion relationship\n",
      "\n",
      "final dispersion estimates\n",
      "\n",
      "fitting model and testing\n",
      "\n"
     ]
    },
    {
     "data": {
      "text/plain": [
       "class: DESeqDataSet \n",
       "dim: 14430 6 \n",
       "metadata(1): version\n",
       "assays(4): counts mu H cooks\n",
       "rownames(14430): 7SK A1BG-AS1 ... hsa-mir-8072 snoU2_19\n",
       "rowData names(22): baseMean baseVar ... deviance maxCooks\n",
       "colnames(6): X_filesTien_Cont1_S25sorted X_filesTien_Cont2_S26sorted\n",
       "  ... X_filesTien_Zn2_S29sorted X_filesTien_Zn3_S30sorted\n",
       "colData names(2): condition sizeFactor"
      ]
     },
     "metadata": {},
     "output_type": "display_data"
    }
   ],
   "source": [
    "# Run DESeq2 differential expression analysis\n",
    "dds <- DESeq(dds)\n",
    "dds"
   ]
  },
  {
   "cell_type": "code",
   "execution_count": 14,
   "metadata": {
    "vscode": {
     "languageId": "r"
    }
   },
   "outputs": [],
   "source": [
    "# save dds object\n",
    "saveRDS(dds, \"data/dds.rds\")\n"
   ]
  },
  {
   "cell_type": "code",
   "execution_count": null,
   "metadata": {
    "vscode": {
     "languageId": "r"
    }
   },
   "outputs": [],
   "source": []
  },
  {
   "cell_type": "markdown",
   "metadata": {},
   "source": [
    "### 1. **Axes**\n",
    "- **x-axis (Mean of normalized counts)**: Represents the average expression level (log-transformed) of genes across samples.\n",
    "- **y-axis (Dispersion estimate)**: Represents the variability (dispersion) of gene expression relative to their mean expression. \n",
    "\n",
    "---\n",
    "\n",
    "### 2. **Data Points**\n",
    "- **Black dots (`gene-est`)**: Each dot represents an individual gene, showing its raw dispersion before any adjustments. \n",
    "  - Genes with lower expression tend to have higher dispersion due to technical noise.\n",
    "- **Red line (`fitted`)**: Represents the fitted trend line showing the expected relationship between mean expression and dispersion. \n",
    "  - Dispersion typically decreases as mean expression increases (genes with high expression tend to have more stable measurements).\n",
    "- **Blue dots (`final`)**: Represent the dispersion values after applying shrinkage or other normalization methods.\n",
    "  - Shrinkage reduces extreme dispersion estimates for low-expression genes, making them more reliable.\n",
    "\n",
    "---\n",
    "\n",
    "### 3. **Purpose**\n",
    "This plot is commonly used in **differential expression analysis**:\n",
    "- To identify genes with unusually high or low dispersion compared to what is expected for their mean expression level.\n",
    "- Dispersion values are critical for downstream statistical models (e.g., DESeq2) to determine which genes are significantly differentially expressed.\n",
    "\n",
    "---\n",
    "\n",
    "### 4. **Interpretation**\n",
    "- **High expression genes (right side)**: Tend to have lower dispersion (tight clustering near the red line).\n",
    "- **Low expression genes (left side)**: Have higher variability due to technical noise, but blue points show normalized dispersion after shrinkage.\n",
    "- The fit of the red line and the placement of blue points indicate whether the normalization process is effective.\n",
    "\n",
    "---\n",
    "\n",
    "### 5. **Conclusion**\n",
    "This plot helps validate the assumptions of dispersion modeling in RNA-Seq data:\n",
    "- **Black dots**: Raw variability before adjustment.\n",
    "- **Red line**: Baseline relationship between expression and dispersion.\n",
    "- **Blue dots**: Improved estimates after normalization."
   ]
  },
  {
   "cell_type": "code",
   "execution_count": 15,
   "metadata": {
    "vscode": {
     "languageId": "r"
    }
   },
   "outputs": [
    {
     "data": {
      "text/html": [
       "<table class=\"dataframe\">\n",
       "<caption>A matrix: 6 x 6 of type dbl</caption>\n",
       "<thead>\n",
       "\t<tr><th></th><th scope=col>X_filesTien_Cont1_S25sorted</th><th scope=col>X_filesTien_Cont2_S26sorted</th><th scope=col>X_filesTien_Cont3_S27sorted</th><th scope=col>X_filesTien_Zn1_S28sorted</th><th scope=col>X_filesTien_Zn2_S29sorted</th><th scope=col>X_filesTien_Zn3_S30sorted</th></tr>\n",
       "</thead>\n",
       "<tbody>\n",
       "\t<tr><th scope=row>7SK</th><td> 0.00000</td><td> 7.424778</td><td> 8.682904</td><td> 5.665332</td><td>10.892091</td><td> 6.479303</td></tr>\n",
       "\t<tr><th scope=row>A1BG-AS1</th><td>62.52693</td><td>16.199515</td><td>22.189643</td><td>33.425460</td><td>19.221337</td><td>18.512294</td></tr>\n",
       "\t<tr><th scope=row>A2M-AS1</th><td>17.86484</td><td>51.298464</td><td>45.826437</td><td>27.193595</td><td>22.424893</td><td>23.140368</td></tr>\n",
       "\t<tr><th scope=row>A2ML1-AS1</th><td>17.86484</td><td>24.974252</td><td>14.471507</td><td>15.862930</td><td>16.658492</td><td>15.735450</td></tr>\n",
       "\t<tr><th scope=row>A2ML1-AS2</th><td>26.79726</td><td> 8.099757</td><td> 8.200520</td><td> 4.532266</td><td> 5.766401</td><td>13.884221</td></tr>\n",
       "\t<tr><th scope=row>A2MP1</th><td>17.86484</td><td>10.799677</td><td>15.436274</td><td>13.030264</td><td> 7.688535</td><td>21.289138</td></tr>\n",
       "</tbody>\n",
       "</table>\n"
      ],
      "text/latex": [
       "A matrix: 6 x 6 of type dbl\n",
       "\\begin{tabular}{r|llllll}\n",
       "  & X\\_filesTien\\_Cont1\\_S25sorted & X\\_filesTien\\_Cont2\\_S26sorted & X\\_filesTien\\_Cont3\\_S27sorted & X\\_filesTien\\_Zn1\\_S28sorted & X\\_filesTien\\_Zn2\\_S29sorted & X\\_filesTien\\_Zn3\\_S30sorted\\\\\n",
       "\\hline\n",
       "\t7SK &  0.00000 &  7.424778 &  8.682904 &  5.665332 & 10.892091 &  6.479303\\\\\n",
       "\tA1BG-AS1 & 62.52693 & 16.199515 & 22.189643 & 33.425460 & 19.221337 & 18.512294\\\\\n",
       "\tA2M-AS1 & 17.86484 & 51.298464 & 45.826437 & 27.193595 & 22.424893 & 23.140368\\\\\n",
       "\tA2ML1-AS1 & 17.86484 & 24.974252 & 14.471507 & 15.862930 & 16.658492 & 15.735450\\\\\n",
       "\tA2ML1-AS2 & 26.79726 &  8.099757 &  8.200520 &  4.532266 &  5.766401 & 13.884221\\\\\n",
       "\tA2MP1 & 17.86484 & 10.799677 & 15.436274 & 13.030264 &  7.688535 & 21.289138\\\\\n",
       "\\end{tabular}\n"
      ],
      "text/markdown": [
       "\n",
       "A matrix: 6 x 6 of type dbl\n",
       "\n",
       "| <!--/--> | X_filesTien_Cont1_S25sorted | X_filesTien_Cont2_S26sorted | X_filesTien_Cont3_S27sorted | X_filesTien_Zn1_S28sorted | X_filesTien_Zn2_S29sorted | X_filesTien_Zn3_S30sorted |\n",
       "|---|---|---|---|---|---|---|\n",
       "| 7SK |  0.00000 |  7.424778 |  8.682904 |  5.665332 | 10.892091 |  6.479303 |\n",
       "| A1BG-AS1 | 62.52693 | 16.199515 | 22.189643 | 33.425460 | 19.221337 | 18.512294 |\n",
       "| A2M-AS1 | 17.86484 | 51.298464 | 45.826437 | 27.193595 | 22.424893 | 23.140368 |\n",
       "| A2ML1-AS1 | 17.86484 | 24.974252 | 14.471507 | 15.862930 | 16.658492 | 15.735450 |\n",
       "| A2ML1-AS2 | 26.79726 |  8.099757 |  8.200520 |  4.532266 |  5.766401 | 13.884221 |\n",
       "| A2MP1 | 17.86484 | 10.799677 | 15.436274 | 13.030264 |  7.688535 | 21.289138 |\n",
       "\n"
      ],
      "text/plain": [
       "          X_filesTien_Cont1_S25sorted X_filesTien_Cont2_S26sorted\n",
       "7SK        0.00000                     7.424778                  \n",
       "A1BG-AS1  62.52693                    16.199515                  \n",
       "A2M-AS1   17.86484                    51.298464                  \n",
       "A2ML1-AS1 17.86484                    24.974252                  \n",
       "A2ML1-AS2 26.79726                     8.099757                  \n",
       "A2MP1     17.86484                    10.799677                  \n",
       "          X_filesTien_Cont3_S27sorted X_filesTien_Zn1_S28sorted\n",
       "7SK        8.682904                    5.665332                \n",
       "A1BG-AS1  22.189643                   33.425460                \n",
       "A2M-AS1   45.826437                   27.193595                \n",
       "A2ML1-AS1 14.471507                   15.862930                \n",
       "A2ML1-AS2  8.200520                    4.532266                \n",
       "A2MP1     15.436274                   13.030264                \n",
       "          X_filesTien_Zn2_S29sorted X_filesTien_Zn3_S30sorted\n",
       "7SK       10.892091                  6.479303                \n",
       "A1BG-AS1  19.221337                 18.512294                \n",
       "A2M-AS1   22.424893                 23.140368                \n",
       "A2ML1-AS1 16.658492                 15.735450                \n",
       "A2ML1-AS2  5.766401                 13.884221                \n",
       "A2MP1      7.688535                 21.289138                "
      ]
     },
     "metadata": {},
     "output_type": "display_data"
    }
   ],
   "source": [
    "# load dds object\n",
    "dds <- readRDS(\"data/dds.rds\")\n",
    "head(counts(dds, normalized = TRUE))"
   ]
  },
  {
   "cell_type": "code",
   "execution_count": 16,
   "metadata": {
    "vscode": {
     "languageId": "r"
    }
   },
   "outputs": [
    {
     "data": {
      "text/html": [
       "<table class=\"dataframe\">\n",
       "<caption>A data.frame: 6 x 6</caption>\n",
       "<thead>\n",
       "\t<tr><th></th><th scope=col>baseMean</th><th scope=col>log2FoldChange</th><th scope=col>lfcSE</th><th scope=col>stat</th><th scope=col>pvalue</th><th scope=col>padj</th></tr>\n",
       "\t<tr><th></th><th scope=col>&lt;dbl&gt;</th><th scope=col>&lt;dbl&gt;</th><th scope=col>&lt;dbl&gt;</th><th scope=col>&lt;dbl&gt;</th><th scope=col>&lt;dbl&gt;</th><th scope=col>&lt;dbl&gt;</th></tr>\n",
       "</thead>\n",
       "<tbody>\n",
       "\t<tr><th scope=row>7SK</th><td> 6.524068</td><td> 0.127862224</td><td>0.8905382</td><td> 0.14357860</td><td>0.8858332</td><td>       NA</td></tr>\n",
       "\t<tr><th scope=row>A1BG-AS1</th><td>28.679197</td><td>-0.090175200</td><td>0.5146600</td><td>-0.17521316</td><td>0.8609121</td><td>0.9442966</td></tr>\n",
       "\t<tr><th scope=row>A2M-AS1</th><td>31.291432</td><td>-0.852683758</td><td>0.4181076</td><td>-2.03938822</td><td>0.0414113</td><td>0.1637656</td></tr>\n",
       "\t<tr><th scope=row>A2ML1-AS1</th><td>17.594578</td><td>-0.266422145</td><td>0.5389822</td><td>-0.49430600</td><td>0.6210901</td><td>       NA</td></tr>\n",
       "\t<tr><th scope=row>A2ML1-AS2</th><td>11.213404</td><td>-0.437107484</td><td>0.7622867</td><td>-0.57341614</td><td>0.5663630</td><td>       NA</td></tr>\n",
       "\t<tr><th scope=row>A2MP1</th><td>14.351454</td><td> 0.003607133</td><td>0.6304721</td><td> 0.00572132</td><td>0.9954351</td><td>       NA</td></tr>\n",
       "</tbody>\n",
       "</table>\n"
      ],
      "text/latex": [
       "A data.frame: 6 x 6\n",
       "\\begin{tabular}{r|llllll}\n",
       "  & baseMean & log2FoldChange & lfcSE & stat & pvalue & padj\\\\\n",
       "  & <dbl> & <dbl> & <dbl> & <dbl> & <dbl> & <dbl>\\\\\n",
       "\\hline\n",
       "\t7SK &  6.524068 &  0.127862224 & 0.8905382 &  0.14357860 & 0.8858332 &        NA\\\\\n",
       "\tA1BG-AS1 & 28.679197 & -0.090175200 & 0.5146600 & -0.17521316 & 0.8609121 & 0.9442966\\\\\n",
       "\tA2M-AS1 & 31.291432 & -0.852683758 & 0.4181076 & -2.03938822 & 0.0414113 & 0.1637656\\\\\n",
       "\tA2ML1-AS1 & 17.594578 & -0.266422145 & 0.5389822 & -0.49430600 & 0.6210901 &        NA\\\\\n",
       "\tA2ML1-AS2 & 11.213404 & -0.437107484 & 0.7622867 & -0.57341614 & 0.5663630 &        NA\\\\\n",
       "\tA2MP1 & 14.351454 &  0.003607133 & 0.6304721 &  0.00572132 & 0.9954351 &        NA\\\\\n",
       "\\end{tabular}\n"
      ],
      "text/markdown": [
       "\n",
       "A data.frame: 6 x 6\n",
       "\n",
       "| <!--/--> | baseMean &lt;dbl&gt; | log2FoldChange &lt;dbl&gt; | lfcSE &lt;dbl&gt; | stat &lt;dbl&gt; | pvalue &lt;dbl&gt; | padj &lt;dbl&gt; |\n",
       "|---|---|---|---|---|---|---|\n",
       "| 7SK |  6.524068 |  0.127862224 | 0.8905382 |  0.14357860 | 0.8858332 |        NA |\n",
       "| A1BG-AS1 | 28.679197 | -0.090175200 | 0.5146600 | -0.17521316 | 0.8609121 | 0.9442966 |\n",
       "| A2M-AS1 | 31.291432 | -0.852683758 | 0.4181076 | -2.03938822 | 0.0414113 | 0.1637656 |\n",
       "| A2ML1-AS1 | 17.594578 | -0.266422145 | 0.5389822 | -0.49430600 | 0.6210901 |        NA |\n",
       "| A2ML1-AS2 | 11.213404 | -0.437107484 | 0.7622867 | -0.57341614 | 0.5663630 |        NA |\n",
       "| A2MP1 | 14.351454 |  0.003607133 | 0.6304721 |  0.00572132 | 0.9954351 |        NA |\n",
       "\n"
      ],
      "text/plain": [
       "          baseMean  log2FoldChange lfcSE     stat        pvalue    padj     \n",
       "7SK        6.524068  0.127862224   0.8905382  0.14357860 0.8858332        NA\n",
       "A1BG-AS1  28.679197 -0.090175200   0.5146600 -0.17521316 0.8609121 0.9442966\n",
       "A2M-AS1   31.291432 -0.852683758   0.4181076 -2.03938822 0.0414113 0.1637656\n",
       "A2ML1-AS1 17.594578 -0.266422145   0.5389822 -0.49430600 0.6210901        NA\n",
       "A2ML1-AS2 11.213404 -0.437107484   0.7622867 -0.57341614 0.5663630        NA\n",
       "A2MP1     14.351454  0.003607133   0.6304721  0.00572132 0.9954351        NA"
      ]
     },
     "metadata": {},
     "output_type": "display_data"
    }
   ],
   "source": [
    "# show results as data frame\n",
    "res <- results(dds)\n",
    "\n",
    "# convert to dataframe\n",
    "res_df <- as.data.frame(res)\n",
    "head(res_df)"
   ]
  },
  {
   "cell_type": "code",
   "execution_count": null,
   "metadata": {
    "vscode": {
     "languageId": "r"
    }
   },
   "outputs": [],
   "source": []
  },
  {
   "cell_type": "code",
   "execution_count": 17,
   "metadata": {
    "vscode": {
     "languageId": "r"
    }
   },
   "outputs": [
    {
     "data": {
      "image/png": "[encoded data removed]",
      "text/plain": [
       "plot without title"
      ]
     },
     "metadata": {
      "image/png": {
       "height": 420,
       "width": 420
      }
     },
     "output_type": "display_data"
    }
   ],
   "source": [
    "plotDispEsts(dds)"
   ]
  },
  {
   "cell_type": "code",
   "execution_count": 18,
   "metadata": {
    "vscode": {
     "languageId": "r"
    }
   },
   "outputs": [
    {
     "data": {
      "text/html": [
       "<style>\n",
       ".list-inline {list-style: none; margin:0; padding: 0}\n",
       ".list-inline>li {display: inline-block}\n",
       ".list-inline>li:not(:last-child)::after {content: \"\\00b7\"; padding: 0 .5ex}\n",
       "</style>\n",
       "<ol class=list-inline><li>'Intercept'</li><li>'condition_E_vs_C'</li></ol>\n"
      ],
      "text/latex": [
       "\\begin{enumerate*}\n",
       "\\item 'Intercept'\n",
       "\\item 'condition\\_E\\_vs\\_C'\n",
       "\\end{enumerate*}\n"
      ],
      "text/markdown": [
       "1. 'Intercept'\n",
       "2. 'condition_E_vs_C'\n",
       "\n",
       "\n"
      ],
      "text/plain": [
       "[1] \"Intercept\"        \"condition_E_vs_C\""
      ]
     },
     "metadata": {},
     "output_type": "display_data"
    }
   ],
   "source": [
    "# Check the coefficients for the comparison\n",
    "resultsNames(dds)"
   ]
  },
  {
   "cell_type": "code",
   "execution_count": 19,
   "metadata": {
    "vscode": {
     "languageId": "r"
    }
   },
   "outputs": [
    {
     "data": {
      "text/plain": [
       "log2 fold change (MLE): condition E vs C \n",
       "Wald test p-value: condition E vs C \n",
       "DataFrame with 14430 rows and 6 columns\n",
       "               baseMean log2FoldChange     lfcSE       stat    pvalue      padj\n",
       "              <numeric>      <numeric> <numeric>  <numeric> <numeric> <numeric>\n",
       "7SK             6.52407      0.1278622  0.890538   0.143579 0.8858332        NA\n",
       "A1BG-AS1       28.67920     -0.0901752  0.514660  -0.175213 0.8609121  0.947051\n",
       "A2M-AS1        31.29143     -0.8526838  0.418108  -2.039388 0.0414113  0.170624\n",
       "A2ML1-AS1      17.59458     -0.2664221  0.538982  -0.494306 0.6210901        NA\n",
       "A2ML1-AS2      11.21340     -0.4371075  0.762287  -0.573416 0.5663630        NA\n",
       "...                 ...            ...       ...        ...       ...       ...\n",
       "hsa-mir-1199    7.86299     -0.0521009  0.820685 -0.0634847 0.9493806        NA\n",
       "hsa-mir-490   135.32502     -0.4974386  0.193908 -2.5653371 0.0103076 0.0602802\n",
       "hsa-mir-6723 3701.82381     -1.8068057  0.815298 -2.2161281 0.0266827 0.1253252\n",
       "hsa-mir-8072   46.10530      0.0420125  0.404147  0.1039533 0.9172064 0.9687068\n",
       "snoU2_19        5.35161      0.2245559  0.962658  0.2332666 0.8155544        NA"
      ]
     },
     "metadata": {},
     "output_type": "display_data"
    }
   ],
   "source": [
    "# Generate results object\n",
    "res <- results(dds,\n",
    "               name = \"condition_E_vs_C\",\n",
    "               alpha = 0.05)\n",
    "res"
   ]
  },
  {
   "cell_type": "code",
   "execution_count": 20,
   "metadata": {
    "vscode": {
     "languageId": "r"
    }
   },
   "outputs": [
    {
     "name": "stderr",
     "output_type": "stream",
     "text": [
      "using 'apeglm' for LFC shrinkage. If used in published research, please cite:\n",
      "    Zhu, A., Ibrahim, J.G., Love, M.I. (2018) Heavy-tailed prior distributions for\n",
      "    sequence count data: removing the noise and preserving large differences.\n",
      "    Bioinformatics. https://doi.org/10.1093/bioinformatics/bty895\n",
      "\n"
     ]
    },
    {
     "data": {
      "text/plain": [
       "log2 fold change (MAP): condition E vs C \n",
       "Wald test p-value: condition E vs C \n",
       "DataFrame with 14430 rows and 5 columns\n",
       "               baseMean log2FoldChange     lfcSE    pvalue      padj\n",
       "              <numeric>      <numeric> <numeric> <numeric> <numeric>\n",
       "7SK             6.52407     0.00466854  0.164928 0.8858332        NA\n",
       "A1BG-AS1       28.67920    -0.00801885  0.160321 0.8609121  0.947051\n",
       "A2M-AS1        31.29143    -0.17130714  0.275399 0.0414113  0.170624\n",
       "A2ML1-AS1      17.59458    -0.02370913  0.162419 0.6210901        NA\n",
       "A2ML1-AS2      11.21340    -0.01884118  0.165673 0.5663630        NA\n",
       "...                 ...            ...       ...       ...       ...\n",
       "hsa-mir-1199    7.86299    -0.00208328  0.164306 0.9493806        NA\n",
       "hsa-mir-490   135.32502    -0.35114851  0.210021 0.0103076 0.0602802\n",
       "hsa-mir-6723 3701.82381    -0.07112774  0.188059 0.0266827 0.1253252\n",
       "hsa-mir-8072   46.10530     0.00658401  0.154626 0.9172064 0.9687068\n",
       "snoU2_19        5.35161     0.00696554  0.165478 0.8155544        NA"
      ]
     },
     "metadata": {},
     "output_type": "display_data"
    }
   ],
   "source": [
    "# Shrink the log2 fold changes to be more appropriate using the apeglm method\n",
    "# should cite [paper]() when using this method\n",
    "res <- lfcShrink(dds,\n",
    "                 coef = \"condition_E_vs_C\",\n",
    "                 res = res,\n",
    "                 type = \"apeglm\")\n",
    "res"
   ]
  },
  {
   "cell_type": "code",
   "execution_count": 21,
   "metadata": {
    "vscode": {
     "languageId": "r"
    }
   },
   "outputs": [],
   "source": [
    "# write results to file\n",
    "write.csv(as.data.frame(res), file = \"data/gene_deseq2_results.csv\")"
   ]
  },
  {
   "cell_type": "code",
   "execution_count": 22,
   "metadata": {
    "vscode": {
     "languageId": "r"
    }
   },
   "outputs": [
    {
     "data": {
      "text/html": [
       "<table class=\"dataframe\">\n",
       "<caption>A tibble: 6 x 6</caption>\n",
       "<thead>\n",
       "\t<tr><th scope=col>gene</th><th scope=col>baseMean</th><th scope=col>log2FoldChange</th><th scope=col>lfcSE</th><th scope=col>pvalue</th><th scope=col>padj</th></tr>\n",
       "\t<tr><th scope=col>&lt;chr&gt;</th><th scope=col>&lt;dbl&gt;</th><th scope=col>&lt;dbl&gt;</th><th scope=col>&lt;dbl&gt;</th><th scope=col>&lt;dbl&gt;</th><th scope=col>&lt;dbl&gt;</th></tr>\n",
       "</thead>\n",
       "<tbody>\n",
       "\t<tr><td>MT-RNR2 </td><td>904848.616</td><td> 2.307590</td><td>0.02724077</td><td> 0.000000e+00</td><td> 0.000000e+00</td></tr>\n",
       "\t<tr><td>MT-TP   </td><td>  3253.096</td><td> 1.944385</td><td>0.05412532</td><td>1.003573e-284</td><td>5.411264e-281</td></tr>\n",
       "\t<tr><td>MT-ND5  </td><td>298801.231</td><td> 1.111986</td><td>0.03115547</td><td>4.333748e-280</td><td>1.557838e-276</td></tr>\n",
       "\t<tr><td>MTRNR2L2</td><td>  2609.833</td><td> 1.974944</td><td>0.05587488</td><td>2.128453e-275</td><td>5.738310e-272</td></tr>\n",
       "\t<tr><td>MT-ATP6 </td><td>118615.796</td><td>-1.112057</td><td>0.03392554</td><td>7.591171e-237</td><td>1.637264e-233</td></tr>\n",
       "\t<tr><td>MT-ATP8 </td><td> 43908.463</td><td>-1.334777</td><td>0.04099192</td><td>5.001372e-234</td><td>8.989132e-231</td></tr>\n",
       "</tbody>\n",
       "</table>\n"
      ],
      "text/latex": [
       "A tibble: 6 x 6\n",
       "\\begin{tabular}{llllll}\n",
       " gene & baseMean & log2FoldChange & lfcSE & pvalue & padj\\\\\n",
       " <chr> & <dbl> & <dbl> & <dbl> & <dbl> & <dbl>\\\\\n",
       "\\hline\n",
       "\t MT-RNR2  & 904848.616 &  2.307590 & 0.02724077 &  0.000000e+00 &  0.000000e+00\\\\\n",
       "\t MT-TP    &   3253.096 &  1.944385 & 0.05412532 & 1.003573e-284 & 5.411264e-281\\\\\n",
       "\t MT-ND5   & 298801.231 &  1.111986 & 0.03115547 & 4.333748e-280 & 1.557838e-276\\\\\n",
       "\t MTRNR2L2 &   2609.833 &  1.974944 & 0.05587488 & 2.128453e-275 & 5.738310e-272\\\\\n",
       "\t MT-ATP6  & 118615.796 & -1.112057 & 0.03392554 & 7.591171e-237 & 1.637264e-233\\\\\n",
       "\t MT-ATP8  &  43908.463 & -1.334777 & 0.04099192 & 5.001372e-234 & 8.989132e-231\\\\\n",
       "\\end{tabular}\n"
      ],
      "text/markdown": [
       "\n",
       "A tibble: 6 x 6\n",
       "\n",
       "| gene &lt;chr&gt; | baseMean &lt;dbl&gt; | log2FoldChange &lt;dbl&gt; | lfcSE &lt;dbl&gt; | pvalue &lt;dbl&gt; | padj &lt;dbl&gt; |\n",
       "|---|---|---|---|---|---|\n",
       "| MT-RNR2  | 904848.616 |  2.307590 | 0.02724077 |  0.000000e+00 |  0.000000e+00 |\n",
       "| MT-TP    |   3253.096 |  1.944385 | 0.05412532 | 1.003573e-284 | 5.411264e-281 |\n",
       "| MT-ND5   | 298801.231 |  1.111986 | 0.03115547 | 4.333748e-280 | 1.557838e-276 |\n",
       "| MTRNR2L2 |   2609.833 |  1.974944 | 0.05587488 | 2.128453e-275 | 5.738310e-272 |\n",
       "| MT-ATP6  | 118615.796 | -1.112057 | 0.03392554 | 7.591171e-237 | 1.637264e-233 |\n",
       "| MT-ATP8  |  43908.463 | -1.334777 | 0.04099192 | 5.001372e-234 | 8.989132e-231 |\n",
       "\n"
      ],
      "text/plain": [
       "  gene     baseMean   log2FoldChange lfcSE      pvalue        padj         \n",
       "1 MT-RNR2  904848.616  2.307590      0.02724077  0.000000e+00  0.000000e+00\n",
       "2 MT-TP      3253.096  1.944385      0.05412532 1.003573e-284 5.411264e-281\n",
       "3 MT-ND5   298801.231  1.111986      0.03115547 4.333748e-280 1.557838e-276\n",
       "4 MTRNR2L2   2609.833  1.974944      0.05587488 2.128453e-275 5.738310e-272\n",
       "5 MT-ATP6  118615.796 -1.112057      0.03392554 7.591171e-237 1.637264e-233\n",
       "6 MT-ATP8   43908.463 -1.334777      0.04099192 5.001372e-234 8.989132e-231"
      ]
     },
     "metadata": {},
     "output_type": "display_data"
    }
   ],
   "source": [
    "# Turn the DESeq2 results object into a tibble for use with tidyverse functions\n",
    "res_tbl <- res %>%\n",
    "  data.frame() %>%\n",
    "  rownames_to_column(var = \"gene\") %>%\n",
    "  as_tibble() %>%\n",
    "  arrange(padj)\n",
    "\n",
    "head(res_tbl)  "
   ]
  },
  {
   "cell_type": "code",
   "execution_count": 23,
   "metadata": {
    "vscode": {
     "languageId": "r"
    }
   },
   "outputs": [],
   "source": [
    "# Write all results to file\n",
    "save_path <- file.path(\n",
    "  \"data\",\n",
    "  paste0(levels(condition)[2], \"_vs_\", levels(condition)[1], \"_all_genes.csv\")\n",
    ")\n",
    "\n",
    "write.csv(\n",
    "  res_tbl,\n",
    "  save_path,\n",
    "  quote = FALSE,\n",
    "  row.names = FALSE\n",
    ")"
   ]
  },
  {
   "cell_type": "code",
   "execution_count": null,
   "metadata": {
    "vscode": {
     "languageId": "r"
    }
   },
   "outputs": [],
   "source": []
  },
  {
   "cell_type": "code",
   "execution_count": null,
   "metadata": {
    "vscode": {
     "languageId": "r"
    }
   },
   "outputs": [],
   "source": []
  }
 ],
 "metadata": {
  "kernelspec": {
   "display_name": "R",
   "language": "R",
   "name": "ir"
  },
  "language_info": {
   "codemirror_mode": "r",
   "file_extension": ".r",
   "mimetype": "text/x-r-source",
   "name": "R",
   "pygments_lexer": "r",
   "version": "4.4.2"
  }
 },
 "nbformat": 4,
 "nbformat_minor": 2
}
