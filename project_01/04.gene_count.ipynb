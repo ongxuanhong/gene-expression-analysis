{
 "cells": [
  {
   "cell_type": "markdown",
   "metadata": {},
   "source": [
    "# Convert to count matrix\n",
    "This command is essentially creating a simplified count matrix by:\n",
    "1. Extracting only necessary columns (gene IDs and counts)\n",
    "2. Cleaning up sample names\n",
    "3. Reformatting to a tab-delimited file\n",
    "4. Making it suitable for downstream analysis in R/DESeq2\n",
    "\n",
    "Details explanation\n",
    "1. `cat data/sacCer.featureCounts.tsv`\n",
    "- Reads the content of the featureCounts output file\n",
    "- featureCounts typically outputs a tab-separated file with gene counts\n",
    "\n",
    "2. `awk '(NR>1) {printf \"%s \", $1; for (i=7; i<=NF; i++) printf \"%s \", $i; print \"\"}'`\n",
    "- `NR>1`: Skips the header line\n",
    "- `printf \"%s \", $1`: Prints the first column (gene IDs)\n",
    "- `for (i=7; i<=NF; i++)`: Loops through columns starting from 7th to last column\n",
    "- These columns contain the actual count values\n",
    "- First 6 columns in featureCounts output typically contain gene information (ID, Chr, Start, End, Strand, Length)\n",
    "\n",
    "3. `sed s/bam//g`\n",
    "- Removes 'bam' from sample names\n",
    "- Cleans up file names\n",
    "\n",
    "4. `tr -d \"/\"` \n",
    "- Removes forward slashes from the output\n",
    "- Further cleans file paths\n",
    "\n",
    "5. `tr -d \".\"` \n",
    "- Removes dots from the output\n",
    "- Additional filename cleaning\n",
    "\n",
    "6. `tr \" \" \"\\t\"`\n",
    "- Converts spaces to tabs\n",
    "- Makes the output tab-delimited\n",
    "\n",
    "7. `> data/sacCer_counts_raw.tsv`\n",
    "- Saves the processed output to a new file\n",
    "- Creates a clean count matrix with just gene IDs and counts\n",
    "\n",
    "Example transformation:\n",
    "```\n",
    "Original featureCounts output:\n",
    "GeneID  Chr  Start  End  Strand  Length  ./sample1.bam  ./sample2.bam\n",
    "YDL248W  chr4  1802  2953  +  1152  45  67\n",
    "\n",
    "After processing:\n",
    "YDL248W  45  67\n",
    "```"
   ]
  },
  {
   "cell_type": "code",
   "execution_count": 2,
   "metadata": {},
   "outputs": [
    {
     "name": "stdout",
     "output_type": "stream",
     "text": [
      "CPU times: user 0 ns, sys: 6 ms, total: 6 ms\n",
      "Wall time: 246 ms\n"
     ]
    }
   ],
   "source": [
    "%%time\n",
    "!cat counts/counts.txt | awk '(NR>1) {printf \"%s \", $1; for (i=7; i<=NF; i++) printf \"%s \", $i; print \"\"}' | sed s/bam//g | tr -d \"/\" | tr -d \".\" | tr \" \" \"\\t\" > data/counts.tsv"
   ]
  },
  {
   "cell_type": "code",
   "execution_count": null,
   "metadata": {},
   "outputs": [],
   "source": []
  },
  {
   "cell_type": "code",
   "execution_count": 3,
   "metadata": {},
   "outputs": [
    {
     "name": "stdout",
     "output_type": "stream",
     "text": [
      "(57820, 4)\n"
     ]
    },
    {
     "data": {
      "text/html": [
       "<div>\n",
       "<style scoped>\n",
       "    .dataframe tbody tr th:only-of-type {\n",
       "        vertical-align: middle;\n",
       "    }\n",
       "\n",
       "    .dataframe tbody tr th {\n",
       "        vertical-align: top;\n",
       "    }\n",
       "\n",
       "    .dataframe thead th {\n",
       "        text-align: right;\n",
       "    }\n",
       "</style>\n",
       "<table border=\"1\" class=\"dataframe\">\n",
       "  <thead>\n",
       "    <tr style=\"text-align: right;\">\n",
       "      <th></th>\n",
       "      <th>Geneid</th>\n",
       "      <th>alignmentsCont1sorted</th>\n",
       "      <th>alignmentsZn2sorted</th>\n",
       "      <th>Unnamed: 3</th>\n",
       "    </tr>\n",
       "  </thead>\n",
       "  <tbody>\n",
       "    <tr>\n",
       "      <th>0</th>\n",
       "      <td>ENSG000002239724</td>\n",
       "      <td>3</td>\n",
       "      <td>3</td>\n",
       "      <td>NaN</td>\n",
       "    </tr>\n",
       "    <tr>\n",
       "      <th>1</th>\n",
       "      <td>ENSG000002272324</td>\n",
       "      <td>277</td>\n",
       "      <td>297</td>\n",
       "      <td>NaN</td>\n",
       "    </tr>\n",
       "    <tr>\n",
       "      <th>2</th>\n",
       "      <td>ENSG000002434852</td>\n",
       "      <td>0</td>\n",
       "      <td>0</td>\n",
       "      <td>NaN</td>\n",
       "    </tr>\n",
       "    <tr>\n",
       "      <th>3</th>\n",
       "      <td>ENSG000002376132</td>\n",
       "      <td>0</td>\n",
       "      <td>0</td>\n",
       "      <td>NaN</td>\n",
       "    </tr>\n",
       "    <tr>\n",
       "      <th>4</th>\n",
       "      <td>ENSG000002680202</td>\n",
       "      <td>0</td>\n",
       "      <td>0</td>\n",
       "      <td>NaN</td>\n",
       "    </tr>\n",
       "  </tbody>\n",
       "</table>\n",
       "</div>"
      ],
      "text/plain": [
       "             Geneid  alignmentsCont1sorted  alignmentsZn2sorted  Unnamed: 3\n",
       "0  ENSG000002239724                      3                    3         NaN\n",
       "1  ENSG000002272324                    277                  297         NaN\n",
       "2  ENSG000002434852                      0                    0         NaN\n",
       "3  ENSG000002376132                      0                    0         NaN\n",
       "4  ENSG000002680202                      0                    0         NaN"
      ]
     },
     "execution_count": 3,
     "metadata": {},
     "output_type": "execute_result"
    }
   ],
   "source": [
    "import pandas as pd\n",
    "\n",
    "df_gene_count = pd.read_csv(\"data/counts.tsv\", sep=\"\\t\")\n",
    "print(df_gene_count.shape)\n",
    "df_gene_count.head()"
   ]
  },
  {
   "cell_type": "code",
   "execution_count": 4,
   "metadata": {},
   "outputs": [
    {
     "data": {
      "text/html": [
       "<div>\n",
       "<style scoped>\n",
       "    .dataframe tbody tr th:only-of-type {\n",
       "        vertical-align: middle;\n",
       "    }\n",
       "\n",
       "    .dataframe tbody tr th {\n",
       "        vertical-align: top;\n",
       "    }\n",
       "\n",
       "    .dataframe thead th {\n",
       "        text-align: right;\n",
       "    }\n",
       "</style>\n",
       "<table border=\"1\" class=\"dataframe\">\n",
       "  <thead>\n",
       "    <tr style=\"text-align: right;\">\n",
       "      <th></th>\n",
       "      <th>Geneid</th>\n",
       "      <th>alignmentsCont1sorted</th>\n",
       "      <th>alignmentsZn2sorted</th>\n",
       "    </tr>\n",
       "  </thead>\n",
       "  <tbody>\n",
       "    <tr>\n",
       "      <th>0</th>\n",
       "      <td>ENSG000002239724</td>\n",
       "      <td>3</td>\n",
       "      <td>3</td>\n",
       "    </tr>\n",
       "    <tr>\n",
       "      <th>1</th>\n",
       "      <td>ENSG000002272324</td>\n",
       "      <td>277</td>\n",
       "      <td>297</td>\n",
       "    </tr>\n",
       "    <tr>\n",
       "      <th>2</th>\n",
       "      <td>ENSG000002434852</td>\n",
       "      <td>0</td>\n",
       "      <td>0</td>\n",
       "    </tr>\n",
       "    <tr>\n",
       "      <th>3</th>\n",
       "      <td>ENSG000002376132</td>\n",
       "      <td>0</td>\n",
       "      <td>0</td>\n",
       "    </tr>\n",
       "    <tr>\n",
       "      <th>4</th>\n",
       "      <td>ENSG000002680202</td>\n",
       "      <td>0</td>\n",
       "      <td>0</td>\n",
       "    </tr>\n",
       "  </tbody>\n",
       "</table>\n",
       "</div>"
      ],
      "text/plain": [
       "             Geneid  alignmentsCont1sorted  alignmentsZn2sorted\n",
       "0  ENSG000002239724                      3                    3\n",
       "1  ENSG000002272324                    277                  297\n",
       "2  ENSG000002434852                      0                    0\n",
       "3  ENSG000002376132                      0                    0\n",
       "4  ENSG000002680202                      0                    0"
      ]
     },
     "execution_count": 4,
     "metadata": {},
     "output_type": "execute_result"
    }
   ],
   "source": [
    "# drop last column\n",
    "df_gene_count = df_gene_count.drop(df_gene_count.columns[-1], axis=1)\n",
    "df_gene_count.head()"
   ]
  },
  {
   "cell_type": "code",
   "execution_count": 5,
   "metadata": {},
   "outputs": [],
   "source": [
    "# save the gene count data\n",
    "df_gene_count.to_csv(\"data/gene_counts_raw.tsv\", sep=\"\\t\", index=False)"
   ]
  },
  {
   "cell_type": "code",
   "execution_count": null,
   "metadata": {},
   "outputs": [],
   "source": []
  }
 ],
 "metadata": {
  "kernelspec": {
   "display_name": "gene-expression-analysis",
   "language": "python",
   "name": "python3"
  },
  "language_info": {
   "codemirror_mode": {
    "name": "ipython",
    "version": 3
   },
   "file_extension": ".py",
   "mimetype": "text/x-python",
   "name": "python",
   "nbconvert_exporter": "python",
   "pygments_lexer": "ipython3",
   "version": "3.9.21"
  }
 },
 "nbformat": 4,
 "nbformat_minor": 2
}
